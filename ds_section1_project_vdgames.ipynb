{
  "nbformat": 4,
  "nbformat_minor": 0,
  "metadata": {
    "colab": {
      "name": "ds-section1-project-vdgames.ipynb",
      "provenance": [],
      "collapsed_sections": [
        "8KJ1Bla69Da2",
        "ESNd3IqF-67A",
        "_EKUEdoeoIED",
        "o3aRel640Pst"
      ],
      "authorship_tag": "ABX9TyOCSXTifBC7oK0lkMqaplZE",
      "include_colab_link": true
    },
    "kernelspec": {
      "name": "python3",
      "display_name": "Python 3"
    }
  },
  "cells": [
    {
      "cell_type": "markdown",
      "metadata": {
        "id": "view-in-github",
        "colab_type": "text"
      },
      "source": [
        "<a href=\"https://colab.research.google.com/github/honeybeat1/ds-section1-project1/blob/main/ds_section1_project_vdgames.ipynb\" target=\"_parent\"><img src=\"https://colab.research.google.com/assets/colab-badge.svg\" alt=\"Open In Colab\"/></a>"
      ]
    },
    {
      "cell_type": "markdown",
      "metadata": {
        "id": "0RqcwRlW66E1"
      },
      "source": [
        "# 게임 데이터 분석\n",
        "\n",
        "프로젝트 목표 : 다음 분기에 어떤 게임을 설계해야 잘 팔릴까\n",
        "- 매출이 높은 게임의 특성에 대해 알아보자"
      ]
    },
    {
      "cell_type": "code",
      "metadata": {
        "id": "CdZCzyaE6vcf"
      },
      "source": [
        "import pandas as pd\n",
        "import numpy as np\n",
        "import re\n",
        "import matplotlib.pyplot as plt\n",
        "import seaborn as sns\n",
        "from scipy import stats\n",
        "from scipy.stats import chi2_contingency"
      ],
      "execution_count": 1,
      "outputs": []
    },
    {
      "cell_type": "markdown",
      "metadata": {
        "id": "31GV27Kw7ESe"
      },
      "source": [
        "## 데이터 EDA\n",
        "데이터를 열어보고, 분석에 맞게 각 칼럽의 타입을 변경하는 등의 전처리를 해줘야 한다.\n",
        "\n",
        "1. 데이터 크기 (shape), 데이터 결측값 처리 (dropna)\n",
        "2. 데이터 전처리 (타입 변경, replace)"
      ]
    },
    {
      "cell_type": "code",
      "metadata": {
        "colab": {
          "base_uri": "https://localhost:8080/",
          "height": 425
        },
        "id": "_vTEs1-T7EIP",
        "outputId": "8e1186ed-4c6c-452d-c484-b4686c358aa2"
      },
      "source": [
        "data = pd.read_csv('https://ds-lecture-data.s3.ap-northeast-2.amazonaws.com/datasets/vgames2.csv')\n",
        "data = data.drop('Unnamed: 0', axis=1)\n",
        "data.head()"
      ],
      "execution_count": 2,
      "outputs": [
        {
          "output_type": "execute_result",
          "data": {
            "text/html": [
              "<div>\n",
              "<style scoped>\n",
              "    .dataframe tbody tr th:only-of-type {\n",
              "        vertical-align: middle;\n",
              "    }\n",
              "\n",
              "    .dataframe tbody tr th {\n",
              "        vertical-align: top;\n",
              "    }\n",
              "\n",
              "    .dataframe thead th {\n",
              "        text-align: right;\n",
              "    }\n",
              "</style>\n",
              "<table border=\"1\" class=\"dataframe\">\n",
              "  <thead>\n",
              "    <tr style=\"text-align: right;\">\n",
              "      <th></th>\n",
              "      <th>Name</th>\n",
              "      <th>Platform</th>\n",
              "      <th>Year</th>\n",
              "      <th>Genre</th>\n",
              "      <th>Publisher</th>\n",
              "      <th>NA_Sales</th>\n",
              "      <th>EU_Sales</th>\n",
              "      <th>JP_Sales</th>\n",
              "      <th>Other_Sales</th>\n",
              "    </tr>\n",
              "  </thead>\n",
              "  <tbody>\n",
              "    <tr>\n",
              "      <th>0</th>\n",
              "      <td>Candace Kane's Candy Factory</td>\n",
              "      <td>DS</td>\n",
              "      <td>2008.0</td>\n",
              "      <td>Action</td>\n",
              "      <td>Destineer</td>\n",
              "      <td>0.04</td>\n",
              "      <td>0</td>\n",
              "      <td>0</td>\n",
              "      <td>0</td>\n",
              "    </tr>\n",
              "    <tr>\n",
              "      <th>1</th>\n",
              "      <td>The Munchables</td>\n",
              "      <td>Wii</td>\n",
              "      <td>2009.0</td>\n",
              "      <td>Action</td>\n",
              "      <td>Namco Bandai Games</td>\n",
              "      <td>0.17</td>\n",
              "      <td>0</td>\n",
              "      <td>0</td>\n",
              "      <td>0.01</td>\n",
              "    </tr>\n",
              "    <tr>\n",
              "      <th>2</th>\n",
              "      <td>Otome wa Oanesama Boku ni Koi Shiteru Portable</td>\n",
              "      <td>PSP</td>\n",
              "      <td>2010.0</td>\n",
              "      <td>Adventure</td>\n",
              "      <td>Alchemist</td>\n",
              "      <td>0</td>\n",
              "      <td>0</td>\n",
              "      <td>0.02</td>\n",
              "      <td>0</td>\n",
              "    </tr>\n",
              "    <tr>\n",
              "      <th>3</th>\n",
              "      <td>Deal or No Deal: Special Edition</td>\n",
              "      <td>DS</td>\n",
              "      <td>2010.0</td>\n",
              "      <td>Misc</td>\n",
              "      <td>Zoo Games</td>\n",
              "      <td>0.04</td>\n",
              "      <td>0</td>\n",
              "      <td>0</td>\n",
              "      <td>0</td>\n",
              "    </tr>\n",
              "    <tr>\n",
              "      <th>4</th>\n",
              "      <td>Ben 10 Ultimate Alien: Cosmic Destruction</td>\n",
              "      <td>PS3</td>\n",
              "      <td>2010.0</td>\n",
              "      <td>Platform</td>\n",
              "      <td>D3Publisher</td>\n",
              "      <td>0.12</td>\n",
              "      <td>0.09</td>\n",
              "      <td>0</td>\n",
              "      <td>0.04</td>\n",
              "    </tr>\n",
              "  </tbody>\n",
              "</table>\n",
              "</div>"
            ],
            "text/plain": [
              "                                             Name Platform  ...  JP_Sales Other_Sales\n",
              "0                    Candace Kane's Candy Factory       DS  ...         0           0\n",
              "1                                  The Munchables      Wii  ...         0        0.01\n",
              "2  Otome wa Oanesama Boku ni Koi Shiteru Portable      PSP  ...      0.02           0\n",
              "3                Deal or No Deal: Special Edition       DS  ...         0           0\n",
              "4       Ben 10 Ultimate Alien: Cosmic Destruction      PS3  ...         0        0.04\n",
              "\n",
              "[5 rows x 9 columns]"
            ]
          },
          "metadata": {
            "tags": []
          },
          "execution_count": 2
        }
      ]
    },
    {
      "cell_type": "code",
      "metadata": {
        "colab": {
          "base_uri": "https://localhost:8080/"
        },
        "id": "eep360_b7DxN",
        "outputId": "cb7f344c-671b-45ee-c945-d21cc7aacd1c"
      },
      "source": [
        "data.shape"
      ],
      "execution_count": 3,
      "outputs": [
        {
          "output_type": "execute_result",
          "data": {
            "text/plain": [
              "(16598, 9)"
            ]
          },
          "metadata": {
            "tags": []
          },
          "execution_count": 3
        }
      ]
    },
    {
      "cell_type": "code",
      "metadata": {
        "colab": {
          "base_uri": "https://localhost:8080/"
        },
        "id": "RORxfxdi7yIG",
        "outputId": "eba11ec7-d9cd-4a91-ccd0-0068cb6eaae7"
      },
      "source": [
        "#연도는 str으로, Sales는 int로 변환해야 한다\n",
        "data.dtypes"
      ],
      "execution_count": 4,
      "outputs": [
        {
          "output_type": "execute_result",
          "data": {
            "text/plain": [
              "Name            object\n",
              "Platform        object\n",
              "Year           float64\n",
              "Genre           object\n",
              "Publisher       object\n",
              "NA_Sales        object\n",
              "EU_Sales        object\n",
              "JP_Sales        object\n",
              "Other_Sales     object\n",
              "dtype: object"
            ]
          },
          "metadata": {
            "tags": []
          },
          "execution_count": 4
        }
      ]
    },
    {
      "cell_type": "code",
      "metadata": {
        "colab": {
          "base_uri": "https://localhost:8080/"
        },
        "id": "L0Mv1_wy71xD",
        "outputId": "e576f89f-4ab8-41f7-e827-f59f2b0e643f"
      },
      "source": [
        "data.isna().sum()"
      ],
      "execution_count": 5,
      "outputs": [
        {
          "output_type": "execute_result",
          "data": {
            "text/plain": [
              "Name             0\n",
              "Platform         0\n",
              "Year           271\n",
              "Genre           50\n",
              "Publisher       58\n",
              "NA_Sales         0\n",
              "EU_Sales         0\n",
              "JP_Sales         0\n",
              "Other_Sales      0\n",
              "dtype: int64"
            ]
          },
          "metadata": {
            "tags": []
          },
          "execution_count": 5
        }
      ]
    },
    {
      "cell_type": "code",
      "metadata": {
        "id": "npnt5wBO8AoH"
      },
      "source": [
        "#우선 NaN 드랍\n",
        "df = data.dropna()"
      ],
      "execution_count": 6,
      "outputs": []
    },
    {
      "cell_type": "code",
      "metadata": {
        "colab": {
          "base_uri": "https://localhost:8080/"
        },
        "id": "P10boL-88r8a",
        "outputId": "dc358ea3-f1d3-465e-eeef-56fb431128fd"
      },
      "source": [
        "df.shape"
      ],
      "execution_count": 7,
      "outputs": [
        {
          "output_type": "execute_result",
          "data": {
            "text/plain": [
              "(16241, 9)"
            ]
          },
          "metadata": {
            "tags": []
          },
          "execution_count": 7
        }
      ]
    },
    {
      "cell_type": "code",
      "metadata": {
        "colab": {
          "base_uri": "https://localhost:8080/"
        },
        "id": "2Jc02Bu282N2",
        "outputId": "631a0b64-ae0c-4cb7-cb8a-0b97d31e680b"
      },
      "source": [
        "df['Year'] = df['Year'].astype(int)\n",
        "df['Year'].unique()"
      ],
      "execution_count": 8,
      "outputs": [
        {
          "output_type": "stream",
          "text": [
            "/usr/local/lib/python3.6/dist-packages/ipykernel_launcher.py:1: SettingWithCopyWarning: \n",
            "A value is trying to be set on a copy of a slice from a DataFrame.\n",
            "Try using .loc[row_indexer,col_indexer] = value instead\n",
            "\n",
            "See the caveats in the documentation: https://pandas.pydata.org/pandas-docs/stable/user_guide/indexing.html#returning-a-view-versus-a-copy\n",
            "  \"\"\"Entry point for launching an IPython kernel.\n"
          ],
          "name": "stderr"
        },
        {
          "output_type": "execute_result",
          "data": {
            "text/plain": [
              "array([2008, 2009, 2010, 2005, 2011, 2007, 2001, 2003, 2006, 2014, 2015,\n",
              "       2002, 1997, 2013, 1996, 2004, 2000, 1984, 1998, 2016, 1985, 1999,\n",
              "          9,   97, 1995, 1993, 2012, 1987, 1982,   11, 1994, 1990,   15,\n",
              "       1992, 1991, 1983, 1988, 1981,    3, 1989,   96,    6,    8, 1986,\n",
              "          1,    5,    4,   10,   98,    7,   16,   86,   14,   95, 2017,\n",
              "       1980, 2020,    2,   13,    0,   12,   94])"
            ]
          },
          "metadata": {
            "tags": []
          },
          "execution_count": 8
        }
      ]
    },
    {
      "cell_type": "markdown",
      "metadata": {
        "id": "8KJ1Bla69Da2"
      },
      "source": [
        "### Year 칼럼 전처리 조건\n",
        "- Year 칼럼의 값은 크게 전처리 해줘야 하는 100이하의 값과 맞추는 기준이 되어줄 1980년에서 2020년까지 범위의 값이 있다.\n",
        "- 1980년에서 2020년 사이의 값이 기준이기 때문에 10~16는 앞자리 20을 붙여주면 되며\n",
        "- 86 ~ 98까지의 값은 앞자리 19를 붙여줄 수 있다\n",
        "- 0~9 사이의 값은 19, 20 둘다 해당할 수 있기 때문에 과감히 드랍한다. "
      ]
    },
    {
      "cell_type": "code",
      "metadata": {
        "id": "HhpfM0jR9Hlv"
      },
      "source": [
        "#year값 0-9사이 행 drop\n",
        "data_below10 = df[df['Year'] < 10]\n",
        "df = df.drop(data_below10.index)"
      ],
      "execution_count": 9,
      "outputs": []
    },
    {
      "cell_type": "code",
      "metadata": {
        "colab": {
          "base_uri": "https://localhost:8080/"
        },
        "id": "DuKME7Dn9nff",
        "outputId": "1af45211-509b-4b47-9d7c-7310c70caa03"
      },
      "source": [
        "#원본에서 410행 (약 40%) 삭제\n",
        "df.shape"
      ],
      "execution_count": 10,
      "outputs": [
        {
          "output_type": "execute_result",
          "data": {
            "text/plain": [
              "(16188, 9)"
            ]
          },
          "metadata": {
            "tags": []
          },
          "execution_count": 10
        }
      ]
    },
    {
      "cell_type": "code",
      "metadata": {
        "id": "YHxA_i6N9qxy"
      },
      "source": [
        "#10~16 앞자리 20 붙여주기\n",
        "df16idx = df[(df['Year'] <= 16) & (df['Year'] >= 10)].index\n",
        "for i in df16idx:\n",
        "    df.loc[i, 'Year'] = df.loc[i, 'Year'] + 2000\n",
        "#86~98 앞자리 19 붙여주기\n",
        "df19idx = df[(df['Year'] <= 98) & (df['Year'] >= 86)].index\n",
        "for i in df19idx:\n",
        "    df.loc[i, 'Year'] = df.loc[i, 'Year'] + 1900"
      ],
      "execution_count": 11,
      "outputs": []
    },
    {
      "cell_type": "code",
      "metadata": {
        "id": "AfQfZSpV-D_f"
      },
      "source": [
        "sorted(df['Year'].unique())"
      ],
      "execution_count": null,
      "outputs": []
    },
    {
      "cell_type": "code",
      "metadata": {
        "id": "jfZnl0Ny-hCp"
      },
      "source": [
        "#index재정렬\n",
        "df_reset = df.reset_index(drop=True)"
      ],
      "execution_count": 17,
      "outputs": []
    },
    {
      "cell_type": "code",
      "metadata": {
        "colab": {
          "base_uri": "https://localhost:8080/",
          "height": 204
        },
        "id": "DIj6CIhy-owu",
        "outputId": "ae2ff886-b40a-4a68-f758-ed6567077245"
      },
      "source": [
        "df_reset.tail()"
      ],
      "execution_count": 18,
      "outputs": [
        {
          "output_type": "execute_result",
          "data": {
            "text/html": [
              "<div>\n",
              "<style scoped>\n",
              "    .dataframe tbody tr th:only-of-type {\n",
              "        vertical-align: middle;\n",
              "    }\n",
              "\n",
              "    .dataframe tbody tr th {\n",
              "        vertical-align: top;\n",
              "    }\n",
              "\n",
              "    .dataframe thead th {\n",
              "        text-align: right;\n",
              "    }\n",
              "</style>\n",
              "<table border=\"1\" class=\"dataframe\">\n",
              "  <thead>\n",
              "    <tr style=\"text-align: right;\">\n",
              "      <th></th>\n",
              "      <th>Name</th>\n",
              "      <th>Platform</th>\n",
              "      <th>Year</th>\n",
              "      <th>Genre</th>\n",
              "      <th>Publisher</th>\n",
              "      <th>NA_Sales</th>\n",
              "      <th>EU_Sales</th>\n",
              "      <th>JP_Sales</th>\n",
              "      <th>Other_Sales</th>\n",
              "    </tr>\n",
              "  </thead>\n",
              "  <tbody>\n",
              "    <tr>\n",
              "      <th>16183</th>\n",
              "      <td>Ice Age 2: The Meltdown</td>\n",
              "      <td>GC</td>\n",
              "      <td>2006</td>\n",
              "      <td>Platform</td>\n",
              "      <td>Vivendi Games</td>\n",
              "      <td>0.15</td>\n",
              "      <td>0.04</td>\n",
              "      <td>0</td>\n",
              "      <td>0.01</td>\n",
              "    </tr>\n",
              "    <tr>\n",
              "      <th>16184</th>\n",
              "      <td>Rainbow Islands: Revolution</td>\n",
              "      <td>PSP</td>\n",
              "      <td>2005</td>\n",
              "      <td>Action</td>\n",
              "      <td>Rising Star Games</td>\n",
              "      <td>0.01</td>\n",
              "      <td>0</td>\n",
              "      <td>0</td>\n",
              "      <td>0</td>\n",
              "    </tr>\n",
              "    <tr>\n",
              "      <th>16185</th>\n",
              "      <td>NBA 2K16</td>\n",
              "      <td>PS3</td>\n",
              "      <td>2015</td>\n",
              "      <td>Sports</td>\n",
              "      <td>Take-Two Interactive</td>\n",
              "      <td>0.44</td>\n",
              "      <td>0.19</td>\n",
              "      <td>0.03</td>\n",
              "      <td>0.13</td>\n",
              "    </tr>\n",
              "    <tr>\n",
              "      <th>16186</th>\n",
              "      <td>Toukiden: The Age of Demons</td>\n",
              "      <td>PSV</td>\n",
              "      <td>2013</td>\n",
              "      <td>Action</td>\n",
              "      <td>Tecmo Koei</td>\n",
              "      <td>0.05</td>\n",
              "      <td>0.05</td>\n",
              "      <td>0.25</td>\n",
              "      <td>0.03</td>\n",
              "    </tr>\n",
              "    <tr>\n",
              "      <th>16187</th>\n",
              "      <td>The King of Fighters '95</td>\n",
              "      <td>PS</td>\n",
              "      <td>1996</td>\n",
              "      <td>Fighting</td>\n",
              "      <td>Sony Computer Entertainment</td>\n",
              "      <td>0</td>\n",
              "      <td>0</td>\n",
              "      <td>0.16</td>\n",
              "      <td>0.01</td>\n",
              "    </tr>\n",
              "  </tbody>\n",
              "</table>\n",
              "</div>"
            ],
            "text/plain": [
              "                              Name Platform  Year  ... EU_Sales JP_Sales Other_Sales\n",
              "16183      Ice Age 2: The Meltdown       GC  2006  ...     0.04        0        0.01\n",
              "16184  Rainbow Islands: Revolution      PSP  2005  ...        0        0           0\n",
              "16185                     NBA 2K16      PS3  2015  ...     0.19     0.03        0.13\n",
              "16186  Toukiden: The Age of Demons      PSV  2013  ...     0.05     0.25        0.03\n",
              "16187     The King of Fighters '95       PS  1996  ...        0     0.16        0.01\n",
              "\n",
              "[5 rows x 9 columns]"
            ]
          },
          "metadata": {
            "tags": []
          },
          "execution_count": 18
        }
      ]
    },
    {
      "cell_type": "code",
      "metadata": {
        "colab": {
          "base_uri": "https://localhost:8080/",
          "height": 350
        },
        "id": "WJ2FOFA6-Q2Q",
        "outputId": "6e861553-e0a5-40b2-cd02-3e374a65ab5c"
      },
      "source": [
        "plt.hist(df['Year'])"
      ],
      "execution_count": 15,
      "outputs": [
        {
          "output_type": "execute_result",
          "data": {
            "text/plain": [
              "(array([ 107.,   65.,   89.,  443., 1264., 2413., 3856., 5217., 2388.,\n",
              "         346.]),\n",
              " array([1980., 1984., 1988., 1992., 1996., 2000., 2004., 2008., 2012.,\n",
              "        2016., 2020.]),\n",
              " <a list of 10 Patch objects>)"
            ]
          },
          "metadata": {
            "tags": []
          },
          "execution_count": 15
        },
        {
          "output_type": "display_data",
          "data": {
            "image/png": "[encoded data removed]",
            "text/plain": [
              "<Figure size 432x288 with 1 Axes>"
            ]
          },
          "metadata": {
            "tags": [],
            "needs_background": "light"
          }
        }
      ]
    },
    {
      "cell_type": "markdown",
      "metadata": {
        "id": "oSjzhpo8-wl0"
      },
      "source": [
        "- 주로 2005년에서 2010년 사이의 데이터가 가장 많이 분포하고 있음을 알 수 있다. "
      ]
    },
    {
      "cell_type": "markdown",
      "metadata": {
        "id": "ESNd3IqF-67A"
      },
      "source": [
        "### Sales 칼럼 전처리 조건\n",
        "- M 기준 (K는 1000, M은 1000000 100만)\n",
        "- M, K 지우고 100만 곱해주기, K인 경우 1000 곱해주기"
      ]
    },
    {
      "cell_type": "code",
      "metadata": {
        "colab": {
          "base_uri": "https://localhost:8080/"
        },
        "id": "pfnpcGUq-tGl",
        "outputId": "a0692182-5d83-4124-fc63-9d50e636a0f8"
      },
      "source": [
        "#모든 매출 칼럼에 대하여 전처리\n",
        "for i in df_reset[['NA_Sales', 'EU_Sales', 'JP_Sales', 'Other_Sales']]:\n",
        "    for j in range(len(df_reset)):\n",
        "        if re.compile(r'K').search(df_reset[i].loc[j]): #K를 포함하고 있다면 1000 곱해주기\n",
        "            df_reset[i].loc[j] = int(df_reset[i].loc[j].replace('K','')) * 1000\n",
        "        elif re.compile(r'M').search(df_reset[i].loc[j]): #M을 포함하고 있다면 100만 곱해주기\n",
        "            df_reset[i].loc[j] = float(df_reset[i].loc[j].replace('M', '')) * 1000000\n",
        "        else: #그 외 M기준이므로 100만 곱해주기\n",
        "            df_reset[i].loc[j] = float(df_reset[i].loc[j]) * 1000000"
      ],
      "execution_count": 20,
      "outputs": [
        {
          "output_type": "stream",
          "text": [
            "/usr/local/lib/python3.6/dist-packages/pandas/core/indexing.py:670: SettingWithCopyWarning: \n",
            "A value is trying to be set on a copy of a slice from a DataFrame\n",
            "\n",
            "See the caveats in the documentation: https://pandas.pydata.org/pandas-docs/stable/user_guide/indexing.html#returning-a-view-versus-a-copy\n",
            "  iloc._setitem_with_indexer(indexer, value)\n"
          ],
          "name": "stderr"
        }
      ]
    },
    {
      "cell_type": "code",
      "metadata": {
        "colab": {
          "base_uri": "https://localhost:8080/"
        },
        "id": "CK5PfY6K_Jsa",
        "outputId": "badb596b-cc01-4dfc-a37c-5bdf4eefd5fa"
      },
      "source": [
        "#바뀌기 전\n",
        "df.loc[10]"
      ],
      "execution_count": 19,
      "outputs": [
        {
          "output_type": "execute_result",
          "data": {
            "text/plain": [
              "Name                  Ford Racing\n",
              "Platform                       PS\n",
              "Year                         2001\n",
              "Genre                      Racing\n",
              "Publisher      Empire Interactive\n",
              "NA_Sales                     480K\n",
              "EU_Sales                    0.33M\n",
              "JP_Sales                       0K\n",
              "Other_Sales                  0.06\n",
              "Name: 10, dtype: object"
            ]
          },
          "metadata": {
            "tags": []
          },
          "execution_count": 19
        }
      ]
    },
    {
      "cell_type": "code",
      "metadata": {
        "colab": {
          "base_uri": "https://localhost:8080/"
        },
        "id": "lLR9hBf3_P2Q",
        "outputId": "124a8179-a1d8-47d5-86ea-b62f4bdcbc91"
      },
      "source": [
        "#바뀐 후\n",
        "df_reset.loc[10]"
      ],
      "execution_count": 21,
      "outputs": [
        {
          "output_type": "execute_result",
          "data": {
            "text/plain": [
              "Name                  Ford Racing\n",
              "Platform                       PS\n",
              "Year                         2001\n",
              "Genre                      Racing\n",
              "Publisher      Empire Interactive\n",
              "NA_Sales                   480000\n",
              "EU_Sales                   330000\n",
              "JP_Sales                        0\n",
              "Other_Sales                 60000\n",
              "Name: 10, dtype: object"
            ]
          },
          "metadata": {
            "tags": []
          },
          "execution_count": 21
        }
      ]
    },
    {
      "cell_type": "code",
      "metadata": {
        "colab": {
          "base_uri": "https://localhost:8080/"
        },
        "id": "UerOSbuu_vPL",
        "outputId": "4333a320-a50e-4a20-d9ce-00c5d3e82dc9"
      },
      "source": [
        "df_reset.dtypes"
      ],
      "execution_count": 22,
      "outputs": [
        {
          "output_type": "execute_result",
          "data": {
            "text/plain": [
              "Name           object\n",
              "Platform       object\n",
              "Year            int64\n",
              "Genre          object\n",
              "Publisher      object\n",
              "NA_Sales       object\n",
              "EU_Sales       object\n",
              "JP_Sales       object\n",
              "Other_Sales    object\n",
              "dtype: object"
            ]
          },
          "metadata": {
            "tags": []
          },
          "execution_count": 22
        }
      ]
    },
    {
      "cell_type": "code",
      "metadata": {
        "id": "KjwgYdC-_r7o"
      },
      "source": [
        "#object 타입 바꿔주기\n",
        "df_reset[['NA_Sales', 'EU_Sales', 'JP_Sales', 'Other_Sales']] = df_reset[['NA_Sales', 'EU_Sales', 'JP_Sales', 'Other_Sales']].astype(int)\n",
        "df_reset['Year'] = df_reset['Year'].astype(str)"
      ],
      "execution_count": 23,
      "outputs": []
    },
    {
      "cell_type": "markdown",
      "metadata": {
        "id": "N6d1MswR_3DF"
      },
      "source": [
        "## 지역에 따라서 선호하는 게임 장르가 다를까?\n",
        "- x 변수 장르, y 변수 지역 매출"
      ]
    },
    {
      "cell_type": "code",
      "metadata": {
        "colab": {
          "base_uri": "https://localhost:8080/",
          "height": 452
        },
        "id": "CLzT-imP_6hD",
        "outputId": "f9c1fcd2-c6c4-42a2-d64b-7fb9918b291f"
      },
      "source": [
        "sales_by_genre = df_reset.groupby('Genre').sum()\n",
        "sales_by_genre"
      ],
      "execution_count": 24,
      "outputs": [
        {
          "output_type": "execute_result",
          "data": {
            "text/html": [
              "<div>\n",
              "<style scoped>\n",
              "    .dataframe tbody tr th:only-of-type {\n",
              "        vertical-align: middle;\n",
              "    }\n",
              "\n",
              "    .dataframe tbody tr th {\n",
              "        vertical-align: top;\n",
              "    }\n",
              "\n",
              "    .dataframe thead th {\n",
              "        text-align: right;\n",
              "    }\n",
              "</style>\n",
              "<table border=\"1\" class=\"dataframe\">\n",
              "  <thead>\n",
              "    <tr style=\"text-align: right;\">\n",
              "      <th></th>\n",
              "      <th>NA_Sales</th>\n",
              "      <th>EU_Sales</th>\n",
              "      <th>JP_Sales</th>\n",
              "      <th>Other_Sales</th>\n",
              "    </tr>\n",
              "    <tr>\n",
              "      <th>Genre</th>\n",
              "      <th></th>\n",
              "      <th></th>\n",
              "      <th></th>\n",
              "      <th></th>\n",
              "    </tr>\n",
              "  </thead>\n",
              "  <tbody>\n",
              "    <tr>\n",
              "      <th>Action</th>\n",
              "      <td>856209997</td>\n",
              "      <td>512659997</td>\n",
              "      <td>156230000</td>\n",
              "      <td>183679998</td>\n",
              "    </tr>\n",
              "    <tr>\n",
              "      <th>Adventure</th>\n",
              "      <td>101790000</td>\n",
              "      <td>63630000</td>\n",
              "      <td>51850000</td>\n",
              "      <td>16690000</td>\n",
              "    </tr>\n",
              "    <tr>\n",
              "      <th>Fighting</th>\n",
              "      <td>220109998</td>\n",
              "      <td>99720000</td>\n",
              "      <td>87090000</td>\n",
              "      <td>36100000</td>\n",
              "    </tr>\n",
              "    <tr>\n",
              "      <th>Misc</th>\n",
              "      <td>394369999</td>\n",
              "      <td>207870000</td>\n",
              "      <td>104110000</td>\n",
              "      <td>72569999</td>\n",
              "    </tr>\n",
              "    <tr>\n",
              "      <th>Platform</th>\n",
              "      <td>443179999</td>\n",
              "      <td>199569999</td>\n",
              "      <td>130269999</td>\n",
              "      <td>51160000</td>\n",
              "    </tr>\n",
              "    <tr>\n",
              "      <th>Puzzle</th>\n",
              "      <td>121159999</td>\n",
              "      <td>50440000</td>\n",
              "      <td>56190000</td>\n",
              "      <td>12410000</td>\n",
              "    </tr>\n",
              "    <tr>\n",
              "      <th>Racing</th>\n",
              "      <td>353709997</td>\n",
              "      <td>234269999</td>\n",
              "      <td>56320000</td>\n",
              "      <td>76260000</td>\n",
              "    </tr>\n",
              "    <tr>\n",
              "      <th>Role-Playing</th>\n",
              "      <td>318759999</td>\n",
              "      <td>183089998</td>\n",
              "      <td>342839999</td>\n",
              "      <td>56730000</td>\n",
              "    </tr>\n",
              "    <tr>\n",
              "      <th>Shooter</th>\n",
              "      <td>573349997</td>\n",
              "      <td>309959996</td>\n",
              "      <td>38180000</td>\n",
              "      <td>101680000</td>\n",
              "    </tr>\n",
              "    <tr>\n",
              "      <th>Simulation</th>\n",
              "      <td>181139998</td>\n",
              "      <td>112740000</td>\n",
              "      <td>63540000</td>\n",
              "      <td>31250000</td>\n",
              "    </tr>\n",
              "    <tr>\n",
              "      <th>Sports</th>\n",
              "      <td>665809996</td>\n",
              "      <td>370239999</td>\n",
              "      <td>134759999</td>\n",
              "      <td>132099999</td>\n",
              "    </tr>\n",
              "    <tr>\n",
              "      <th>Strategy</th>\n",
              "      <td>67820000</td>\n",
              "      <td>44700000</td>\n",
              "      <td>48900000</td>\n",
              "      <td>11200000</td>\n",
              "    </tr>\n",
              "  </tbody>\n",
              "</table>\n",
              "</div>"
            ],
            "text/plain": [
              "               NA_Sales   EU_Sales   JP_Sales  Other_Sales\n",
              "Genre                                                     \n",
              "Action        856209997  512659997  156230000    183679998\n",
              "Adventure     101790000   63630000   51850000     16690000\n",
              "Fighting      220109998   99720000   87090000     36100000\n",
              "Misc          394369999  207870000  104110000     72569999\n",
              "Platform      443179999  199569999  130269999     51160000\n",
              "Puzzle        121159999   50440000   56190000     12410000\n",
              "Racing        353709997  234269999   56320000     76260000\n",
              "Role-Playing  318759999  183089998  342839999     56730000\n",
              "Shooter       573349997  309959996   38180000    101680000\n",
              "Simulation    181139998  112740000   63540000     31250000\n",
              "Sports        665809996  370239999  134759999    132099999\n",
              "Strategy       67820000   44700000   48900000     11200000"
            ]
          },
          "metadata": {
            "tags": []
          },
          "execution_count": 24
        }
      ]
    },
    {
      "cell_type": "code",
      "metadata": {
        "colab": {
          "base_uri": "https://localhost:8080/",
          "height": 451
        },
        "id": "7Y3yRo6uALfr",
        "outputId": "0b7de350-3d33-4a99-98f8-56229370a887"
      },
      "source": [
        "sales_by_genre.plot.bar(figsize=(10,6));"
      ],
      "execution_count": 30,
      "outputs": [
        {
          "output_type": "display_data",
          "data": {
            "image/png": "[encoded data removed]",
            "text/plain": [
              "<Figure size 720x432 with 1 Axes>"
            ]
          },
          "metadata": {
            "tags": [],
            "needs_background": "light"
          }
        }
      ]
    },
    {
      "cell_type": "markdown",
      "metadata": {
        "id": "YZNTAXViBP6V"
      },
      "source": [
        "1. 북미 매출 기준 Action, Sports, Shooter, Platform 순으로 인기가 많다.\n",
        "2. 유럽 매출 기준 Action, Sports, Shooter, Racing 순으로 인기가 많다.\n",
        "3. 일본 매출 기준 Role-playing, Action, Sports, Platform 순으로 인기가 많다.\n",
        "4. 기타 지역 매출 기준 Action, Sports, Shooter, Racing 순으로 인기가 많다.\n",
        "----\n",
        "- 일본 지역만 독특하게 Role-playing 장르의 매출이 독보적으로 높으며 북미, 유럽, 기타 지역은 Action, Sports, Shooter 장르가 순위권인 비슷한 경향을 보인다.\n",
        "- 일본 지역만 Role-playing 장르의 매출이 높은 것은 **드래곤 퀘스트, 몬스터 헌터, 파이널 판타지 시리즈** 때문\n",
        "- 일본에서 개발된 게임의 특수성 때문이므로 글로벌하게는 지역에 따라 선호하는 장르가 크게 다르지 않다고 말할 수 있다. "
      ]
    },
    {
      "cell_type": "code",
      "metadata": {
        "colab": {
          "base_uri": "https://localhost:8080/",
          "height": 514
        },
        "id": "v1MWbHu7AM6R",
        "outputId": "0f886e39-ecdc-4113-e7a7-e9bf08d2d65a"
      },
      "source": [
        "#일본 지역 상위권 매출 게임\n",
        "#일본에서만 판매된 게임도 있다\n",
        "df_reset[df_reset['Genre'] == 'Role-Playing'].sort_values(by=['JP_Sales'], axis=0, ascending=False)[:15]"
      ],
      "execution_count": 33,
      "outputs": [
        {
          "output_type": "execute_result",
          "data": {
            "text/html": [
              "<div>\n",
              "<style scoped>\n",
              "    .dataframe tbody tr th:only-of-type {\n",
              "        vertical-align: middle;\n",
              "    }\n",
              "\n",
              "    .dataframe tbody tr th {\n",
              "        vertical-align: top;\n",
              "    }\n",
              "\n",
              "    .dataframe thead th {\n",
              "        text-align: right;\n",
              "    }\n",
              "</style>\n",
              "<table border=\"1\" class=\"dataframe\">\n",
              "  <thead>\n",
              "    <tr style=\"text-align: right;\">\n",
              "      <th></th>\n",
              "      <th>Name</th>\n",
              "      <th>Platform</th>\n",
              "      <th>Year</th>\n",
              "      <th>Genre</th>\n",
              "      <th>Publisher</th>\n",
              "      <th>NA_Sales</th>\n",
              "      <th>EU_Sales</th>\n",
              "      <th>JP_Sales</th>\n",
              "      <th>Other_Sales</th>\n",
              "    </tr>\n",
              "  </thead>\n",
              "  <tbody>\n",
              "    <tr>\n",
              "      <th>7649</th>\n",
              "      <td>Pokemon Red/Pokemon Blue</td>\n",
              "      <td>GB</td>\n",
              "      <td>1996</td>\n",
              "      <td>Role-Playing</td>\n",
              "      <td>Nintendo</td>\n",
              "      <td>11270000</td>\n",
              "      <td>8890000</td>\n",
              "      <td>10220000</td>\n",
              "      <td>1000000</td>\n",
              "    </tr>\n",
              "    <tr>\n",
              "      <th>9198</th>\n",
              "      <td>Pokemon Gold/Pokemon Silver</td>\n",
              "      <td>GB</td>\n",
              "      <td>1999</td>\n",
              "      <td>Role-Playing</td>\n",
              "      <td>Nintendo</td>\n",
              "      <td>9000000</td>\n",
              "      <td>6180000</td>\n",
              "      <td>7200000</td>\n",
              "      <td>710000</td>\n",
              "    </tr>\n",
              "    <tr>\n",
              "      <th>10307</th>\n",
              "      <td>Pokemon Diamond/Pokemon Pearl</td>\n",
              "      <td>DS</td>\n",
              "      <td>2006</td>\n",
              "      <td>Role-Playing</td>\n",
              "      <td>Nintendo</td>\n",
              "      <td>6420000</td>\n",
              "      <td>4520000</td>\n",
              "      <td>6040000</td>\n",
              "      <td>1370000</td>\n",
              "    </tr>\n",
              "    <tr>\n",
              "      <th>10372</th>\n",
              "      <td>Pokemon Black/Pokemon White</td>\n",
              "      <td>DS</td>\n",
              "      <td>2010</td>\n",
              "      <td>Role-Playing</td>\n",
              "      <td>Nintendo</td>\n",
              "      <td>5570000</td>\n",
              "      <td>3280000</td>\n",
              "      <td>5650000</td>\n",
              "      <td>820000</td>\n",
              "    </tr>\n",
              "    <tr>\n",
              "      <th>10660</th>\n",
              "      <td>Pokemon Ruby/Pokemon Sapphire</td>\n",
              "      <td>GBA</td>\n",
              "      <td>2002</td>\n",
              "      <td>Role-Playing</td>\n",
              "      <td>Nintendo</td>\n",
              "      <td>6060000</td>\n",
              "      <td>3900000</td>\n",
              "      <td>5380000</td>\n",
              "      <td>500000</td>\n",
              "    </tr>\n",
              "    <tr>\n",
              "      <th>1810</th>\n",
              "      <td>Monster Hunter Freedom 3</td>\n",
              "      <td>PSP</td>\n",
              "      <td>2010</td>\n",
              "      <td>Role-Playing</td>\n",
              "      <td>Capcom</td>\n",
              "      <td>0</td>\n",
              "      <td>0</td>\n",
              "      <td>4870000</td>\n",
              "      <td>0</td>\n",
              "    </tr>\n",
              "    <tr>\n",
              "      <th>5089</th>\n",
              "      <td>Dragon Quest IX: Sentinels of the Starry Skies</td>\n",
              "      <td>DS</td>\n",
              "      <td>2009</td>\n",
              "      <td>Role-Playing</td>\n",
              "      <td>Nintendo</td>\n",
              "      <td>660000</td>\n",
              "      <td>690000</td>\n",
              "      <td>4350000</td>\n",
              "      <td>150000</td>\n",
              "    </tr>\n",
              "    <tr>\n",
              "      <th>4421</th>\n",
              "      <td>Monster Hunter Freedom Unite</td>\n",
              "      <td>PSP</td>\n",
              "      <td>2008</td>\n",
              "      <td>Role-Playing</td>\n",
              "      <td>Capcom</td>\n",
              "      <td>470000</td>\n",
              "      <td>570000</td>\n",
              "      <td>4130000</td>\n",
              "      <td>340000</td>\n",
              "    </tr>\n",
              "    <tr>\n",
              "      <th>159</th>\n",
              "      <td>Dragon Quest VII: Warriors of Eden</td>\n",
              "      <td>PS</td>\n",
              "      <td>2000</td>\n",
              "      <td>Role-Playing</td>\n",
              "      <td>Enix Corporation</td>\n",
              "      <td>200000</td>\n",
              "      <td>140000</td>\n",
              "      <td>4099999</td>\n",
              "      <td>20000</td>\n",
              "    </tr>\n",
              "    <tr>\n",
              "      <th>14772</th>\n",
              "      <td>Dragon Warrior III</td>\n",
              "      <td>NES</td>\n",
              "      <td>1988</td>\n",
              "      <td>Role-Playing</td>\n",
              "      <td>Enix Corporation</td>\n",
              "      <td>100000</td>\n",
              "      <td>0</td>\n",
              "      <td>3770000</td>\n",
              "      <td>0</td>\n",
              "    </tr>\n",
              "    <tr>\n",
              "      <th>5981</th>\n",
              "      <td>Final Fantasy VIII</td>\n",
              "      <td>PS</td>\n",
              "      <td>1999</td>\n",
              "      <td>Role-Playing</td>\n",
              "      <td>SquareSoft</td>\n",
              "      <td>2280000</td>\n",
              "      <td>1720000</td>\n",
              "      <td>3630000</td>\n",
              "      <td>230000</td>\n",
              "    </tr>\n",
              "    <tr>\n",
              "      <th>14387</th>\n",
              "      <td>Dragon Quest VIII: Journey of the Cursed King</td>\n",
              "      <td>PS2</td>\n",
              "      <td>2004</td>\n",
              "      <td>Role-Playing</td>\n",
              "      <td>Square Enix</td>\n",
              "      <td>650000</td>\n",
              "      <td>750000</td>\n",
              "      <td>3610000</td>\n",
              "      <td>200000</td>\n",
              "    </tr>\n",
              "    <tr>\n",
              "      <th>15283</th>\n",
              "      <td>Monster Hunter 4</td>\n",
              "      <td>3DS</td>\n",
              "      <td>2013</td>\n",
              "      <td>Role-Playing</td>\n",
              "      <td>Capcom</td>\n",
              "      <td>0</td>\n",
              "      <td>0</td>\n",
              "      <td>3440000</td>\n",
              "      <td>0</td>\n",
              "    </tr>\n",
              "    <tr>\n",
              "      <th>11420</th>\n",
              "      <td>Final Fantasy VII</td>\n",
              "      <td>PS</td>\n",
              "      <td>1997</td>\n",
              "      <td>Role-Playing</td>\n",
              "      <td>Sony Computer Entertainment</td>\n",
              "      <td>3010000</td>\n",
              "      <td>2470000</td>\n",
              "      <td>3280000</td>\n",
              "      <td>960000</td>\n",
              "    </tr>\n",
              "    <tr>\n",
              "      <th>11075</th>\n",
              "      <td>Dragon Quest VI: Maboroshi no Daichi</td>\n",
              "      <td>SNES</td>\n",
              "      <td>1995</td>\n",
              "      <td>Role-Playing</td>\n",
              "      <td>Enix Corporation</td>\n",
              "      <td>0</td>\n",
              "      <td>0</td>\n",
              "      <td>3190000</td>\n",
              "      <td>0</td>\n",
              "    </tr>\n",
              "  </tbody>\n",
              "</table>\n",
              "</div>"
            ],
            "text/plain": [
              "                                                 Name  ... Other_Sales\n",
              "7649                         Pokemon Red/Pokemon Blue  ...     1000000\n",
              "9198                      Pokemon Gold/Pokemon Silver  ...      710000\n",
              "10307                   Pokemon Diamond/Pokemon Pearl  ...     1370000\n",
              "10372                     Pokemon Black/Pokemon White  ...      820000\n",
              "10660                   Pokemon Ruby/Pokemon Sapphire  ...      500000\n",
              "1810                         Monster Hunter Freedom 3  ...           0\n",
              "5089   Dragon Quest IX: Sentinels of the Starry Skies  ...      150000\n",
              "4421                     Monster Hunter Freedom Unite  ...      340000\n",
              "159                Dragon Quest VII: Warriors of Eden  ...       20000\n",
              "14772                              Dragon Warrior III  ...           0\n",
              "5981                               Final Fantasy VIII  ...      230000\n",
              "14387   Dragon Quest VIII: Journey of the Cursed King  ...      200000\n",
              "15283                                Monster Hunter 4  ...           0\n",
              "11420                               Final Fantasy VII  ...      960000\n",
              "11075            Dragon Quest VI: Maboroshi no Daichi  ...           0\n",
              "\n",
              "[15 rows x 9 columns]"
            ]
          },
          "metadata": {
            "tags": []
          },
          "execution_count": 33
        }
      ]
    },
    {
      "cell_type": "markdown",
      "metadata": {
        "id": "l1gJFxJ1Bgko"
      },
      "source": [
        "## 연도별 게임 트렌드가 있을까?\n",
        "게임 트렌드란?\n",
        "1. 해당 연도 매출이 높은 게임의 장르\n",
        "2. 해당 연도 발매가 제일 많이 된 게임의 장르\n",
        "3. 연도 매출과 연도 발매량 간의 관계"
      ]
    },
    {
      "cell_type": "code",
      "metadata": {
        "id": "CJXwyav6BOYU"
      },
      "source": [
        "#각 지역 매출 총 합을 나타내는 새로운 칼럼 'Sales_sum' 만들기\n",
        "df_reset['Sales_sum'] = df_reset['NA_Sales'] + df_reset['EU_Sales'] + df_reset['JP_Sales'] + df_reset['Other_Sales']\n",
        "df_reset_sum = df_reset[['Year', 'Genre', 'Sales_sum']]"
      ],
      "execution_count": 344,
      "outputs": []
    },
    {
      "cell_type": "code",
      "metadata": {
        "colab": {
          "base_uri": "https://localhost:8080/",
          "height": 450
        },
        "id": "jh9BqIdxBQR2",
        "outputId": "e24d3898-d54b-4823-c56b-66c0392f0346"
      },
      "source": [
        "#연도별, 장르별 매출 총 합\n",
        "df_reset_sum.groupby(['Year', 'Genre']).sum()\n",
        "df_reset_sum = df_reset_sum.groupby(['Year', 'Genre']).sum().sort_values(by=[\"Year\", \"Sales_sum\"], ascending=[True, False])\n",
        "df_reset_sum"
      ],
      "execution_count": 345,
      "outputs": [
        {
          "output_type": "execute_result",
          "data": {
            "text/html": [
              "<div>\n",
              "<style scoped>\n",
              "    .dataframe tbody tr th:only-of-type {\n",
              "        vertical-align: middle;\n",
              "    }\n",
              "\n",
              "    .dataframe tbody tr th {\n",
              "        vertical-align: top;\n",
              "    }\n",
              "\n",
              "    .dataframe thead th {\n",
              "        text-align: right;\n",
              "    }\n",
              "</style>\n",
              "<table border=\"1\" class=\"dataframe\">\n",
              "  <thead>\n",
              "    <tr style=\"text-align: right;\">\n",
              "      <th></th>\n",
              "      <th></th>\n",
              "      <th>Sales_sum</th>\n",
              "    </tr>\n",
              "    <tr>\n",
              "      <th>Year</th>\n",
              "      <th>Genre</th>\n",
              "      <th></th>\n",
              "    </tr>\n",
              "  </thead>\n",
              "  <tbody>\n",
              "    <tr>\n",
              "      <th rowspan=\"4\" valign=\"top\">1980</th>\n",
              "      <th>Shooter</th>\n",
              "      <td>7070000</td>\n",
              "    </tr>\n",
              "    <tr>\n",
              "      <th>Misc</th>\n",
              "      <td>2700000</td>\n",
              "    </tr>\n",
              "    <tr>\n",
              "      <th>Fighting</th>\n",
              "      <td>770000</td>\n",
              "    </tr>\n",
              "    <tr>\n",
              "      <th>Action</th>\n",
              "      <td>340000</td>\n",
              "    </tr>\n",
              "    <tr>\n",
              "      <th>1981</th>\n",
              "      <th>Action</th>\n",
              "      <td>14790000</td>\n",
              "    </tr>\n",
              "    <tr>\n",
              "      <th>...</th>\n",
              "      <th>...</th>\n",
              "      <td>...</td>\n",
              "    </tr>\n",
              "    <tr>\n",
              "      <th rowspan=\"2\" valign=\"top\">2016</th>\n",
              "      <th>Strategy</th>\n",
              "      <td>520000</td>\n",
              "    </tr>\n",
              "    <tr>\n",
              "      <th>Simulation</th>\n",
              "      <td>390000</td>\n",
              "    </tr>\n",
              "    <tr>\n",
              "      <th rowspan=\"2\" valign=\"top\">2017</th>\n",
              "      <th>Role-Playing</th>\n",
              "      <td>40000</td>\n",
              "    </tr>\n",
              "    <tr>\n",
              "      <th>Action</th>\n",
              "      <td>10000</td>\n",
              "    </tr>\n",
              "    <tr>\n",
              "      <th>2020</th>\n",
              "      <th>Simulation</th>\n",
              "      <td>290000</td>\n",
              "    </tr>\n",
              "  </tbody>\n",
              "</table>\n",
              "<p>388 rows × 1 columns</p>\n",
              "</div>"
            ],
            "text/plain": [
              "                   Sales_sum\n",
              "Year Genre                  \n",
              "1980 Shooter         7070000\n",
              "     Misc            2700000\n",
              "     Fighting         770000\n",
              "     Action           340000\n",
              "1981 Action         14790000\n",
              "...                      ...\n",
              "2016 Strategy         520000\n",
              "     Simulation       390000\n",
              "2017 Role-Playing      40000\n",
              "     Action            10000\n",
              "2020 Simulation       290000\n",
              "\n",
              "[388 rows x 1 columns]"
            ]
          },
          "metadata": {
            "tags": []
          },
          "execution_count": 345
        }
      ]
    },
    {
      "cell_type": "code",
      "metadata": {
        "colab": {
          "base_uri": "https://localhost:8080/",
          "height": 450
        },
        "id": "w3FWTp0MnqyU",
        "outputId": "4dd9549d-762d-4f7f-882a-2ae291410692"
      },
      "source": [
        "#매년 가장 매출이 높았던 장르 상위 2개 뽑기\n",
        "temp = []\n",
        "years_list = []\n",
        "for i in range(len(df_reset_sum)):\n",
        "    if df_reset_sum.index[i][0] not in years_list:\n",
        "        years_list.append(df_reset_sum.index[i][0])\n",
        "for i in years_list:\n",
        "    new = df_reset_sum.iloc[df_reset_sum.index.get_level_values('Year') == i].head(2)\n",
        "    temp.append(new)\n",
        "df_sales_first = temp[0]\n",
        "for i in temp[1:]:\n",
        "    df_sales_first = df_sales_first.append(i)\n",
        "df_sales_first"
      ],
      "execution_count": 347,
      "outputs": [
        {
          "output_type": "execute_result",
          "data": {
            "text/html": [
              "<div>\n",
              "<style scoped>\n",
              "    .dataframe tbody tr th:only-of-type {\n",
              "        vertical-align: middle;\n",
              "    }\n",
              "\n",
              "    .dataframe tbody tr th {\n",
              "        vertical-align: top;\n",
              "    }\n",
              "\n",
              "    .dataframe thead th {\n",
              "        text-align: right;\n",
              "    }\n",
              "</style>\n",
              "<table border=\"1\" class=\"dataframe\">\n",
              "  <thead>\n",
              "    <tr style=\"text-align: right;\">\n",
              "      <th></th>\n",
              "      <th></th>\n",
              "      <th>Sales_sum</th>\n",
              "    </tr>\n",
              "    <tr>\n",
              "      <th>Year</th>\n",
              "      <th>Genre</th>\n",
              "      <th></th>\n",
              "    </tr>\n",
              "  </thead>\n",
              "  <tbody>\n",
              "    <tr>\n",
              "      <th rowspan=\"2\" valign=\"top\">1980</th>\n",
              "      <th>Shooter</th>\n",
              "      <td>7070000</td>\n",
              "    </tr>\n",
              "    <tr>\n",
              "      <th>Misc</th>\n",
              "      <td>2700000</td>\n",
              "    </tr>\n",
              "    <tr>\n",
              "      <th rowspan=\"2\" valign=\"top\">1981</th>\n",
              "      <th>Action</th>\n",
              "      <td>14790000</td>\n",
              "    </tr>\n",
              "    <tr>\n",
              "      <th>Shooter</th>\n",
              "      <td>10020000</td>\n",
              "    </tr>\n",
              "    <tr>\n",
              "      <th>1982</th>\n",
              "      <th>Puzzle</th>\n",
              "      <td>10040000</td>\n",
              "    </tr>\n",
              "    <tr>\n",
              "      <th>...</th>\n",
              "      <th>...</th>\n",
              "      <td>...</td>\n",
              "    </tr>\n",
              "    <tr>\n",
              "      <th rowspan=\"2\" valign=\"top\">2016</th>\n",
              "      <th>Action</th>\n",
              "      <td>19840000</td>\n",
              "    </tr>\n",
              "    <tr>\n",
              "      <th>Shooter</th>\n",
              "      <td>18169999</td>\n",
              "    </tr>\n",
              "    <tr>\n",
              "      <th rowspan=\"2\" valign=\"top\">2017</th>\n",
              "      <th>Role-Playing</th>\n",
              "      <td>40000</td>\n",
              "    </tr>\n",
              "    <tr>\n",
              "      <th>Action</th>\n",
              "      <td>10000</td>\n",
              "    </tr>\n",
              "    <tr>\n",
              "      <th>2020</th>\n",
              "      <th>Simulation</th>\n",
              "      <td>290000</td>\n",
              "    </tr>\n",
              "  </tbody>\n",
              "</table>\n",
              "<p>77 rows × 1 columns</p>\n",
              "</div>"
            ],
            "text/plain": [
              "                   Sales_sum\n",
              "Year Genre                  \n",
              "1980 Shooter         7070000\n",
              "     Misc            2700000\n",
              "1981 Action         14790000\n",
              "     Shooter        10020000\n",
              "1982 Puzzle         10040000\n",
              "...                      ...\n",
              "2016 Action         19840000\n",
              "     Shooter        18169999\n",
              "2017 Role-Playing      40000\n",
              "     Action            10000\n",
              "2020 Simulation       290000\n",
              "\n",
              "[77 rows x 1 columns]"
            ]
          },
          "metadata": {
            "tags": []
          },
          "execution_count": 347
        }
      ]
    },
    {
      "cell_type": "markdown",
      "metadata": {
        "id": "_EKUEdoeoIED"
      },
      "source": [
        "### 연도별 게임 장르 발매량으로 알아보는 게임 트렌드"
      ]
    },
    {
      "cell_type": "code",
      "metadata": {
        "id": "uz5sobFmChiY"
      },
      "source": [
        "df_game_count = df_reset[['Year', 'Genre','Name']].groupby(['Year','Genre']).count()\n",
        "df_game_count = df_game_count.sort_values(by=[\"Year\", \"Name\"], ascending=[True, False])"
      ],
      "execution_count": 283,
      "outputs": []
    },
    {
      "cell_type": "code",
      "metadata": {
        "colab": {
          "base_uri": "https://localhost:8080/",
          "height": 419
        },
        "id": "vewePmSoGUvL",
        "outputId": "3e93d831-a691-46ac-ef67-410ea0fabe83"
      },
      "source": [
        "df_game_count = df_game_count.reset_index()\n",
        "df_game_count"
      ],
      "execution_count": 284,
      "outputs": [
        {
          "output_type": "execute_result",
          "data": {
            "text/html": [
              "<div>\n",
              "<style scoped>\n",
              "    .dataframe tbody tr th:only-of-type {\n",
              "        vertical-align: middle;\n",
              "    }\n",
              "\n",
              "    .dataframe tbody tr th {\n",
              "        vertical-align: top;\n",
              "    }\n",
              "\n",
              "    .dataframe thead th {\n",
              "        text-align: right;\n",
              "    }\n",
              "</style>\n",
              "<table border=\"1\" class=\"dataframe\">\n",
              "  <thead>\n",
              "    <tr style=\"text-align: right;\">\n",
              "      <th></th>\n",
              "      <th>Year</th>\n",
              "      <th>Genre</th>\n",
              "      <th>Name</th>\n",
              "    </tr>\n",
              "  </thead>\n",
              "  <tbody>\n",
              "    <tr>\n",
              "      <th>0</th>\n",
              "      <td>1980</td>\n",
              "      <td>Misc</td>\n",
              "      <td>4</td>\n",
              "    </tr>\n",
              "    <tr>\n",
              "      <th>1</th>\n",
              "      <td>1980</td>\n",
              "      <td>Shooter</td>\n",
              "      <td>2</td>\n",
              "    </tr>\n",
              "    <tr>\n",
              "      <th>2</th>\n",
              "      <td>1980</td>\n",
              "      <td>Action</td>\n",
              "      <td>1</td>\n",
              "    </tr>\n",
              "    <tr>\n",
              "      <th>3</th>\n",
              "      <td>1980</td>\n",
              "      <td>Fighting</td>\n",
              "      <td>1</td>\n",
              "    </tr>\n",
              "    <tr>\n",
              "      <th>4</th>\n",
              "      <td>1981</td>\n",
              "      <td>Action</td>\n",
              "      <td>25</td>\n",
              "    </tr>\n",
              "    <tr>\n",
              "      <th>...</th>\n",
              "      <td>...</td>\n",
              "      <td>...</td>\n",
              "      <td>...</td>\n",
              "    </tr>\n",
              "    <tr>\n",
              "      <th>383</th>\n",
              "      <td>2016</td>\n",
              "      <td>Strategy</td>\n",
              "      <td>10</td>\n",
              "    </tr>\n",
              "    <tr>\n",
              "      <th>384</th>\n",
              "      <td>2016</td>\n",
              "      <td>Simulation</td>\n",
              "      <td>9</td>\n",
              "    </tr>\n",
              "    <tr>\n",
              "      <th>385</th>\n",
              "      <td>2017</td>\n",
              "      <td>Role-Playing</td>\n",
              "      <td>2</td>\n",
              "    </tr>\n",
              "    <tr>\n",
              "      <th>386</th>\n",
              "      <td>2017</td>\n",
              "      <td>Action</td>\n",
              "      <td>1</td>\n",
              "    </tr>\n",
              "    <tr>\n",
              "      <th>387</th>\n",
              "      <td>2020</td>\n",
              "      <td>Simulation</td>\n",
              "      <td>1</td>\n",
              "    </tr>\n",
              "  </tbody>\n",
              "</table>\n",
              "<p>388 rows × 3 columns</p>\n",
              "</div>"
            ],
            "text/plain": [
              "     Year         Genre  Name\n",
              "0    1980          Misc     4\n",
              "1    1980       Shooter     2\n",
              "2    1980        Action     1\n",
              "3    1980      Fighting     1\n",
              "4    1981        Action    25\n",
              "..    ...           ...   ...\n",
              "383  2016      Strategy    10\n",
              "384  2016    Simulation     9\n",
              "385  2017  Role-Playing     2\n",
              "386  2017        Action     1\n",
              "387  2020    Simulation     1\n",
              "\n",
              "[388 rows x 3 columns]"
            ]
          },
          "metadata": {
            "tags": []
          },
          "execution_count": 284
        }
      ]
    },
    {
      "cell_type": "code",
      "metadata": {
        "id": "qoIzkrX4WQpy"
      },
      "source": [
        "df_game_count_arr = df_game_count.groupby(['Year', 'Genre']).sum().unstack().fillna(0).reset_index()\n",
        "df_game_count_arr"
      ],
      "execution_count": null,
      "outputs": []
    },
    {
      "cell_type": "code",
      "metadata": {
        "colab": {
          "base_uri": "https://localhost:8080/"
        },
        "id": "CoI4q1R_G48O",
        "outputId": "844fb49f-a3d1-4d90-9178-5043157c6614"
      },
      "source": [
        "#표 그리기 위한 준비\n",
        "arr = {}\n",
        "\n",
        "for i in years_list:\n",
        "  arr1 = {i : list(df_game_count_arr[df_game_count_arr['Year']== i].values[0][1:].astype(int))}\n",
        "  arr.update(arr1)\n",
        "#연도 수가 너무 길기 때문에 80년대만 잘라서\n",
        "import itertools as it\n",
        "out = dict(list(arr.items())[0: 10])  \n",
        "out"
      ],
      "execution_count": 303,
      "outputs": [
        {
          "output_type": "execute_result",
          "data": {
            "text/plain": [
              "{'1980': [1, 0, 1, 4, 0, 0, 0, 0, 2, 0, 0, 0],\n",
              " '1981': [25, 0, 0, 0, 3, 2, 1, 0, 10, 1, 4, 0],\n",
              " '1982': [18, 0, 0, 1, 5, 3, 2, 0, 5, 0, 2, 0],\n",
              " '1983': [7, 1, 0, 1, 5, 1, 0, 0, 1, 0, 1, 0],\n",
              " '1984': [1, 0, 0, 1, 1, 3, 3, 0, 3, 0, 2, 0],\n",
              " '1985': [2, 0, 1, 0, 4, 4, 0, 0, 1, 1, 1, 0],\n",
              " '1986': [6, 0, 0, 0, 6, 0, 1, 1, 4, 0, 3, 0],\n",
              " '1987': [2, 1, 2, 0, 2, 0, 0, 3, 2, 0, 4, 0],\n",
              " '1988': [2, 0, 0, 0, 4, 1, 1, 3, 1, 1, 2, 0],\n",
              " '1989': [2, 0, 0, 1, 3, 5, 0, 2, 1, 0, 3, 0]}"
            ]
          },
          "metadata": {
            "tags": []
          },
          "execution_count": 303
        }
      ]
    },
    {
      "cell_type": "code",
      "metadata": {
        "id": "XE2oi-10F0ae"
      },
      "source": [
        "#Discrete distribution as horizontal bar chart\n",
        "def survey(results, category_names):\n",
        "    labels = list(results.keys())\n",
        "    data = np.array(list(results.values()))\n",
        "    data_cum = data.cumsum(axis=1)\n",
        "    category_colors = plt.get_cmap('RdYlGn')(\n",
        "        np.linspace(0.15, 0.85, data.shape[1]))\n",
        "\n",
        "    fig, ax = plt.subplots(figsize=(9.2, 5))\n",
        "    ax.invert_yaxis()\n",
        "    ax.xaxis.set_visible(False)\n",
        "    ax.set_xlim(0, np.sum(data, axis=1).max())\n",
        "\n",
        "    for i, (colname, color) in enumerate(zip(category_names, category_colors)):\n",
        "        widths = data[:, i]\n",
        "        starts = data_cum[:, i] - widths\n",
        "        ax.barh(labels, widths, left=starts, height=0.5,\n",
        "                label=colname, color=color)\n",
        "        xcenters = starts + widths / 2\n",
        "\n",
        "        r, g, b, _ = color\n",
        "        text_color = 'white' if r * g * b < 0.5 else 'darkgrey'\n",
        "        for y, (x, c) in enumerate(zip(xcenters, widths)):\n",
        "            ax.text(x, y, str(int(c)), ha='center', va='center',\n",
        "                    color=text_color)\n",
        "    ax.legend(ncol=len(category_names), bbox_to_anchor=(0, 1),\n",
        "              loc='lower left', fontsize='small')\n",
        "\n",
        "    return fig, ax"
      ],
      "execution_count": 288,
      "outputs": []
    },
    {
      "cell_type": "code",
      "metadata": {
        "colab": {
          "base_uri": "https://localhost:8080/",
          "height": 700
        },
        "id": "LkBHiQxkn1m_",
        "outputId": "f0ccb506-e42d-464f-f7b9-c347f62080d8"
      },
      "source": [
        "#1980년대 게임 매출\n",
        "df_sales_first[:20]"
      ],
      "execution_count": 348,
      "outputs": [
        {
          "output_type": "execute_result",
          "data": {
            "text/html": [
              "<div>\n",
              "<style scoped>\n",
              "    .dataframe tbody tr th:only-of-type {\n",
              "        vertical-align: middle;\n",
              "    }\n",
              "\n",
              "    .dataframe tbody tr th {\n",
              "        vertical-align: top;\n",
              "    }\n",
              "\n",
              "    .dataframe thead th {\n",
              "        text-align: right;\n",
              "    }\n",
              "</style>\n",
              "<table border=\"1\" class=\"dataframe\">\n",
              "  <thead>\n",
              "    <tr style=\"text-align: right;\">\n",
              "      <th></th>\n",
              "      <th></th>\n",
              "      <th>Sales_sum</th>\n",
              "    </tr>\n",
              "    <tr>\n",
              "      <th>Year</th>\n",
              "      <th>Genre</th>\n",
              "      <th></th>\n",
              "    </tr>\n",
              "  </thead>\n",
              "  <tbody>\n",
              "    <tr>\n",
              "      <th rowspan=\"2\" valign=\"top\">1980</th>\n",
              "      <th>Shooter</th>\n",
              "      <td>7070000</td>\n",
              "    </tr>\n",
              "    <tr>\n",
              "      <th>Misc</th>\n",
              "      <td>2700000</td>\n",
              "    </tr>\n",
              "    <tr>\n",
              "      <th rowspan=\"2\" valign=\"top\">1981</th>\n",
              "      <th>Action</th>\n",
              "      <td>14790000</td>\n",
              "    </tr>\n",
              "    <tr>\n",
              "      <th>Shooter</th>\n",
              "      <td>10020000</td>\n",
              "    </tr>\n",
              "    <tr>\n",
              "      <th rowspan=\"2\" valign=\"top\">1982</th>\n",
              "      <th>Puzzle</th>\n",
              "      <td>10040000</td>\n",
              "    </tr>\n",
              "    <tr>\n",
              "      <th>Action</th>\n",
              "      <td>6500000</td>\n",
              "    </tr>\n",
              "    <tr>\n",
              "      <th rowspan=\"2\" valign=\"top\">1983</th>\n",
              "      <th>Platform</th>\n",
              "      <td>6930000</td>\n",
              "    </tr>\n",
              "    <tr>\n",
              "      <th>Sports</th>\n",
              "      <td>3200000</td>\n",
              "    </tr>\n",
              "    <tr>\n",
              "      <th rowspan=\"2\" valign=\"top\">1984</th>\n",
              "      <th>Shooter</th>\n",
              "      <td>31100000</td>\n",
              "    </tr>\n",
              "    <tr>\n",
              "      <th>Sports</th>\n",
              "      <td>6170000</td>\n",
              "    </tr>\n",
              "    <tr>\n",
              "      <th rowspan=\"2\" valign=\"top\">1985</th>\n",
              "      <th>Platform</th>\n",
              "      <td>43170000</td>\n",
              "    </tr>\n",
              "    <tr>\n",
              "      <th>Action</th>\n",
              "      <td>3520000</td>\n",
              "    </tr>\n",
              "    <tr>\n",
              "      <th rowspan=\"2\" valign=\"top\">1986</th>\n",
              "      <th>Action</th>\n",
              "      <td>13740000</td>\n",
              "    </tr>\n",
              "    <tr>\n",
              "      <th>Platform</th>\n",
              "      <td>9390000</td>\n",
              "    </tr>\n",
              "    <tr>\n",
              "      <th rowspan=\"2\" valign=\"top\">1987</th>\n",
              "      <th>Fighting</th>\n",
              "      <td>5419999</td>\n",
              "    </tr>\n",
              "    <tr>\n",
              "      <th>Role-Playing</th>\n",
              "      <td>4650000</td>\n",
              "    </tr>\n",
              "    <tr>\n",
              "      <th rowspan=\"2\" valign=\"top\">1988</th>\n",
              "      <th>Platform</th>\n",
              "      <td>27730000</td>\n",
              "    </tr>\n",
              "    <tr>\n",
              "      <th>Role-Playing</th>\n",
              "      <td>5880000</td>\n",
              "    </tr>\n",
              "    <tr>\n",
              "      <th rowspan=\"2\" valign=\"top\">1989</th>\n",
              "      <th>Puzzle</th>\n",
              "      <td>37750000</td>\n",
              "    </tr>\n",
              "    <tr>\n",
              "      <th>Platform</th>\n",
              "      <td>20659999</td>\n",
              "    </tr>\n",
              "  </tbody>\n",
              "</table>\n",
              "</div>"
            ],
            "text/plain": [
              "                   Sales_sum\n",
              "Year Genre                  \n",
              "1980 Shooter         7070000\n",
              "     Misc            2700000\n",
              "1981 Action         14790000\n",
              "     Shooter        10020000\n",
              "1982 Puzzle         10040000\n",
              "     Action          6500000\n",
              "1983 Platform        6930000\n",
              "     Sports          3200000\n",
              "1984 Shooter        31100000\n",
              "     Sports          6170000\n",
              "1985 Platform       43170000\n",
              "     Action          3520000\n",
              "1986 Action         13740000\n",
              "     Platform        9390000\n",
              "1987 Fighting        5419999\n",
              "     Role-Playing    4650000\n",
              "1988 Platform       27730000\n",
              "     Role-Playing    5880000\n",
              "1989 Puzzle         37750000\n",
              "     Platform       20659999"
            ]
          },
          "metadata": {
            "tags": []
          },
          "execution_count": 348
        }
      ]
    },
    {
      "cell_type": "code",
      "metadata": {
        "colab": {
          "base_uri": "https://localhost:8080/",
          "height": 326
        },
        "id": "iQqlZVajp6w8",
        "outputId": "5905f8ae-af86-4414-94e0-faa80bdf321f"
      },
      "source": [
        "#1980년대 게임 발매량\n",
        "results = dict(itertools.islice(arr.items(), 10))\n",
        "category_names = sorted(df_reset['Genre'].unique())\n",
        "survey(results, category_names)\n",
        "plt.show()"
      ],
      "execution_count": 290,
      "outputs": [
        {
          "output_type": "display_data",
          "data": {
            "image/png": "[encoded data removed]",
            "text/plain": [
              "<Figure size 662.4x360 with 1 Axes>"
            ]
          },
          "metadata": {
            "tags": [],
            "needs_background": "light"
          }
        }
      ]
    },
    {
      "cell_type": "markdown",
      "metadata": {
        "id": "cb3sX9Tmn8H2"
      },
      "source": [
        "1. 연도별로 발매된 게임, 매출이 높은 게임 장르가 다양하다.\n",
        "2. 많이 발매 됐다고 매출 총 합이 높은 것은 아니며, 특히 82년의 경우 Action 장르 게임이 6배 많이 발매되었으나 매출은 1.5배 가량 적다\n",
        "3. 연도별로 매출 1,2위 게임 장르가 다르다는 것은 게임 트렌드가 연도별로 달라진다는 뜻이다."
      ]
    },
    {
      "cell_type": "code",
      "metadata": {
        "colab": {
          "base_uri": "https://localhost:8080/",
          "height": 700
        },
        "id": "SB3o3GYyn6sA",
        "outputId": "ad4ceb89-c971-4a4a-ab30-aeba535ffa48"
      },
      "source": [
        "#90년대 비교\n",
        "df_sales_first[20:40]"
      ],
      "execution_count": 350,
      "outputs": [
        {
          "output_type": "execute_result",
          "data": {
            "text/html": [
              "<div>\n",
              "<style scoped>\n",
              "    .dataframe tbody tr th:only-of-type {\n",
              "        vertical-align: middle;\n",
              "    }\n",
              "\n",
              "    .dataframe tbody tr th {\n",
              "        vertical-align: top;\n",
              "    }\n",
              "\n",
              "    .dataframe thead th {\n",
              "        text-align: right;\n",
              "    }\n",
              "</style>\n",
              "<table border=\"1\" class=\"dataframe\">\n",
              "  <thead>\n",
              "    <tr style=\"text-align: right;\">\n",
              "      <th></th>\n",
              "      <th></th>\n",
              "      <th>Sales_sum</th>\n",
              "    </tr>\n",
              "    <tr>\n",
              "      <th>Year</th>\n",
              "      <th>Genre</th>\n",
              "      <th></th>\n",
              "    </tr>\n",
              "  </thead>\n",
              "  <tbody>\n",
              "    <tr>\n",
              "      <th rowspan=\"2\" valign=\"top\">1990</th>\n",
              "      <th>Platform</th>\n",
              "      <td>22980000</td>\n",
              "    </tr>\n",
              "    <tr>\n",
              "      <th>Action</th>\n",
              "      <td>6390000</td>\n",
              "    </tr>\n",
              "    <tr>\n",
              "      <th rowspan=\"2\" valign=\"top\">1991</th>\n",
              "      <th>Platform</th>\n",
              "      <td>7630000</td>\n",
              "    </tr>\n",
              "    <tr>\n",
              "      <th>Action</th>\n",
              "      <td>6760000</td>\n",
              "    </tr>\n",
              "    <tr>\n",
              "      <th rowspan=\"2\" valign=\"top\">1992</th>\n",
              "      <th>Fighting</th>\n",
              "      <td>15230000</td>\n",
              "    </tr>\n",
              "    <tr>\n",
              "      <th>Platform</th>\n",
              "      <td>13410000</td>\n",
              "    </tr>\n",
              "    <tr>\n",
              "      <th rowspan=\"2\" valign=\"top\">1993</th>\n",
              "      <th>Platform</th>\n",
              "      <td>18680000</td>\n",
              "    </tr>\n",
              "    <tr>\n",
              "      <th>Fighting</th>\n",
              "      <td>8750000</td>\n",
              "    </tr>\n",
              "    <tr>\n",
              "      <th rowspan=\"2\" valign=\"top\">1994</th>\n",
              "      <th>Platform</th>\n",
              "      <td>28760000</td>\n",
              "    </tr>\n",
              "    <tr>\n",
              "      <th>Fighting</th>\n",
              "      <td>8470000</td>\n",
              "    </tr>\n",
              "    <tr>\n",
              "      <th rowspan=\"2\" valign=\"top\">1995</th>\n",
              "      <th>Platform</th>\n",
              "      <td>16690000</td>\n",
              "    </tr>\n",
              "    <tr>\n",
              "      <th>Fighting</th>\n",
              "      <td>14840000</td>\n",
              "    </tr>\n",
              "    <tr>\n",
              "      <th rowspan=\"2\" valign=\"top\">1996</th>\n",
              "      <th>Role-Playing</th>\n",
              "      <td>43990000</td>\n",
              "    </tr>\n",
              "    <tr>\n",
              "      <th>Platform</th>\n",
              "      <td>28230000</td>\n",
              "    </tr>\n",
              "    <tr>\n",
              "      <th rowspan=\"2\" valign=\"top\">1997</th>\n",
              "      <th>Racing</th>\n",
              "      <td>31919999</td>\n",
              "    </tr>\n",
              "    <tr>\n",
              "      <th>Sports</th>\n",
              "      <td>30040000</td>\n",
              "    </tr>\n",
              "    <tr>\n",
              "      <th rowspan=\"2\" valign=\"top\">1998</th>\n",
              "      <th>Sports</th>\n",
              "      <td>41750000</td>\n",
              "    </tr>\n",
              "    <tr>\n",
              "      <th>Action</th>\n",
              "      <td>39409999</td>\n",
              "    </tr>\n",
              "    <tr>\n",
              "      <th rowspan=\"2\" valign=\"top\">1999</th>\n",
              "      <th>Role-Playing</th>\n",
              "      <td>47240000</td>\n",
              "    </tr>\n",
              "    <tr>\n",
              "      <th>Racing</th>\n",
              "      <td>37190000</td>\n",
              "    </tr>\n",
              "  </tbody>\n",
              "</table>\n",
              "</div>"
            ],
            "text/plain": [
              "                   Sales_sum\n",
              "Year Genre                  \n",
              "1990 Platform       22980000\n",
              "     Action          6390000\n",
              "1991 Platform        7630000\n",
              "     Action          6760000\n",
              "1992 Fighting       15230000\n",
              "     Platform       13410000\n",
              "1993 Platform       18680000\n",
              "     Fighting        8750000\n",
              "1994 Platform       28760000\n",
              "     Fighting        8470000\n",
              "1995 Platform       16690000\n",
              "     Fighting       14840000\n",
              "1996 Role-Playing   43990000\n",
              "     Platform       28230000\n",
              "1997 Racing         31919999\n",
              "     Sports         30040000\n",
              "1998 Sports         41750000\n",
              "     Action         39409999\n",
              "1999 Role-Playing   47240000\n",
              "     Racing         37190000"
            ]
          },
          "metadata": {
            "tags": []
          },
          "execution_count": 350
        }
      ]
    },
    {
      "cell_type": "code",
      "metadata": {
        "colab": {
          "base_uri": "https://localhost:8080/",
          "height": 326
        },
        "id": "pQrgN6eoqMmQ",
        "outputId": "44894c25-b096-4c5d-e303-241ef8f33e4a"
      },
      "source": [
        "#90년대 게임 발매량\n",
        "results = dict(list(arr.items())[10: 20])  \n",
        "category_names = sorted(df_reset['Genre'].unique())\n",
        "survey(results, category_names)\n",
        "plt.show()"
      ],
      "execution_count": 351,
      "outputs": [
        {
          "output_type": "display_data",
          "data": {
            "image/png": "[encoded data removed]",
            "text/plain": [
              "<Figure size 662.4x360 with 1 Axes>"
            ]
          },
          "metadata": {
            "tags": [],
            "needs_background": "light"
          }
        }
      ]
    },
    {
      "cell_type": "markdown",
      "metadata": {
        "id": "Piq9NznsoAju"
      },
      "source": [
        "- 90년대 초는 Platform 게임이 매출에 강세를 보인다. 발매량은 다른 장르들과 차이가 없다. \n",
        "- 92년부터 95년까지는 1,2위를 모두 Platform과 Fighting 장르가 차지했다.\n",
        "- 90년대 후반은 점차 Sports 게임이 발매를 많이 하기 시작했다. 매출 기준으로는 Role-playing, Racing, Sports 등 다양하다."
      ]
    },
    {
      "cell_type": "code",
      "metadata": {
        "colab": {
          "base_uri": "https://localhost:8080/",
          "height": 700
        },
        "id": "I3tF8UjNoC_n",
        "outputId": "fad5633a-a741-46e1-bf70-76fda4ca05bd"
      },
      "source": [
        "#00년대 비교\n",
        "df_sales_first[40:60]"
      ],
      "execution_count": 352,
      "outputs": [
        {
          "output_type": "execute_result",
          "data": {
            "text/html": [
              "<div>\n",
              "<style scoped>\n",
              "    .dataframe tbody tr th:only-of-type {\n",
              "        vertical-align: middle;\n",
              "    }\n",
              "\n",
              "    .dataframe tbody tr th {\n",
              "        vertical-align: top;\n",
              "    }\n",
              "\n",
              "    .dataframe thead th {\n",
              "        text-align: right;\n",
              "    }\n",
              "</style>\n",
              "<table border=\"1\" class=\"dataframe\">\n",
              "  <thead>\n",
              "    <tr style=\"text-align: right;\">\n",
              "      <th></th>\n",
              "      <th></th>\n",
              "      <th>Sales_sum</th>\n",
              "    </tr>\n",
              "    <tr>\n",
              "      <th>Year</th>\n",
              "      <th>Genre</th>\n",
              "      <th></th>\n",
              "    </tr>\n",
              "  </thead>\n",
              "  <tbody>\n",
              "    <tr>\n",
              "      <th rowspan=\"2\" valign=\"top\">2000</th>\n",
              "      <th>Sports</th>\n",
              "      <td>41240000</td>\n",
              "    </tr>\n",
              "    <tr>\n",
              "      <th>Action</th>\n",
              "      <td>33890000</td>\n",
              "    </tr>\n",
              "    <tr>\n",
              "      <th rowspan=\"2\" valign=\"top\">2001</th>\n",
              "      <th>Action</th>\n",
              "      <td>56679999</td>\n",
              "    </tr>\n",
              "    <tr>\n",
              "      <th>Racing</th>\n",
              "      <td>55129999</td>\n",
              "    </tr>\n",
              "    <tr>\n",
              "      <th rowspan=\"2\" valign=\"top\">2002</th>\n",
              "      <th>Action</th>\n",
              "      <td>86650000</td>\n",
              "    </tr>\n",
              "    <tr>\n",
              "      <th>Sports</th>\n",
              "      <td>65300000</td>\n",
              "    </tr>\n",
              "    <tr>\n",
              "      <th rowspan=\"2\" valign=\"top\">2003</th>\n",
              "      <th>Action</th>\n",
              "      <td>67980000</td>\n",
              "    </tr>\n",
              "    <tr>\n",
              "      <th>Sports</th>\n",
              "      <td>55500000</td>\n",
              "    </tr>\n",
              "    <tr>\n",
              "      <th rowspan=\"2\" valign=\"top\">2004</th>\n",
              "      <th>Action</th>\n",
              "      <td>75940000</td>\n",
              "    </tr>\n",
              "    <tr>\n",
              "      <th>Sports</th>\n",
              "      <td>61109998</td>\n",
              "    </tr>\n",
              "    <tr>\n",
              "      <th rowspan=\"2\" valign=\"top\">2005</th>\n",
              "      <th>Action</th>\n",
              "      <td>85070000</td>\n",
              "    </tr>\n",
              "    <tr>\n",
              "      <th>Misc</th>\n",
              "      <td>59689999</td>\n",
              "    </tr>\n",
              "    <tr>\n",
              "      <th rowspan=\"2\" valign=\"top\">2006</th>\n",
              "      <th>Sports</th>\n",
              "      <td>136110000</td>\n",
              "    </tr>\n",
              "    <tr>\n",
              "      <th>Misc</th>\n",
              "      <td>67230000</td>\n",
              "    </tr>\n",
              "    <tr>\n",
              "      <th rowspan=\"2\" valign=\"top\">2007</th>\n",
              "      <th>Action</th>\n",
              "      <td>105990000</td>\n",
              "    </tr>\n",
              "    <tr>\n",
              "      <th>Sports</th>\n",
              "      <td>98239999</td>\n",
              "    </tr>\n",
              "    <tr>\n",
              "      <th rowspan=\"2\" valign=\"top\">2008</th>\n",
              "      <th>Action</th>\n",
              "      <td>134879999</td>\n",
              "    </tr>\n",
              "    <tr>\n",
              "      <th>Sports</th>\n",
              "      <td>94909999</td>\n",
              "    </tr>\n",
              "    <tr>\n",
              "      <th rowspan=\"2\" valign=\"top\">2009</th>\n",
              "      <th>Sports</th>\n",
              "      <td>138589999</td>\n",
              "    </tr>\n",
              "    <tr>\n",
              "      <th>Action</th>\n",
              "      <td>138130000</td>\n",
              "    </tr>\n",
              "  </tbody>\n",
              "</table>\n",
              "</div>"
            ],
            "text/plain": [
              "             Sales_sum\n",
              "Year Genre            \n",
              "2000 Sports   41240000\n",
              "     Action   33890000\n",
              "2001 Action   56679999\n",
              "     Racing   55129999\n",
              "2002 Action   86650000\n",
              "     Sports   65300000\n",
              "2003 Action   67980000\n",
              "     Sports   55500000\n",
              "2004 Action   75940000\n",
              "     Sports   61109998\n",
              "2005 Action   85070000\n",
              "     Misc     59689999\n",
              "2006 Sports  136110000\n",
              "     Misc     67230000\n",
              "2007 Action  105990000\n",
              "     Sports   98239999\n",
              "2008 Action  134879999\n",
              "     Sports   94909999\n",
              "2009 Sports  138589999\n",
              "     Action  138130000"
            ]
          },
          "metadata": {
            "tags": []
          },
          "execution_count": 352
        }
      ]
    },
    {
      "cell_type": "code",
      "metadata": {
        "colab": {
          "base_uri": "https://localhost:8080/",
          "height": 326
        },
        "id": "_yCh3eGysJvr",
        "outputId": "93c1fc5c-4010-4d6b-e86c-6a5a0d2348a7"
      },
      "source": [
        "#2000년대 게임 발매량\n",
        "results = dict(list(arr.items())[20: 30])  \n",
        "category_names = sorted(df_reset['Genre'].unique())\n",
        "survey(results, category_names)\n",
        "plt.show()"
      ],
      "execution_count": 305,
      "outputs": [
        {
          "output_type": "display_data",
          "data": {
            "image/png": "[encoded data removed]",
            "text/plain": [
              "<Figure size 662.4x360 with 1 Axes>"
            ]
          },
          "metadata": {
            "tags": [],
            "needs_background": "light"
          }
        }
      ]
    },
    {
      "cell_type": "markdown",
      "metadata": {
        "id": "4KfLsXMmoFPZ"
      },
      "source": [
        "- 2000년대는 확실한 Sports - Action 게임이 판매량, 발매량에서도 강세를 보인다. \n",
        "- Nintendo의 Wii 게임들이 매출 상위권에 랭크되었다. \n",
        "- Sports - Action 게임들이 다수 발매되기도 했지만, 영향력이 절대적이진 않다. Fighting 장르 게임도 비슷하게 발매되었으나, 매출은 상위권에 랭크 되지 못했다."
      ]
    },
    {
      "cell_type": "code",
      "metadata": {
        "colab": {
          "base_uri": "https://localhost:8080/",
          "height": 607
        },
        "id": "sc3w4bXWoHTm",
        "outputId": "ce2b5873-fc66-4cf4-f09d-d77fe66954e9"
      },
      "source": [
        "#2010년대 비교\n",
        "df_sales_first[60:]"
      ],
      "execution_count": 353,
      "outputs": [
        {
          "output_type": "execute_result",
          "data": {
            "text/html": [
              "<div>\n",
              "<style scoped>\n",
              "    .dataframe tbody tr th:only-of-type {\n",
              "        vertical-align: middle;\n",
              "    }\n",
              "\n",
              "    .dataframe tbody tr th {\n",
              "        vertical-align: top;\n",
              "    }\n",
              "\n",
              "    .dataframe thead th {\n",
              "        text-align: right;\n",
              "    }\n",
              "</style>\n",
              "<table border=\"1\" class=\"dataframe\">\n",
              "  <thead>\n",
              "    <tr style=\"text-align: right;\">\n",
              "      <th></th>\n",
              "      <th></th>\n",
              "      <th>Sales_sum</th>\n",
              "    </tr>\n",
              "    <tr>\n",
              "      <th>Year</th>\n",
              "      <th>Genre</th>\n",
              "      <th></th>\n",
              "    </tr>\n",
              "  </thead>\n",
              "  <tbody>\n",
              "    <tr>\n",
              "      <th rowspan=\"2\" valign=\"top\">2010</th>\n",
              "      <th>Action</th>\n",
              "      <td>117500000</td>\n",
              "    </tr>\n",
              "    <tr>\n",
              "      <th>Sports</th>\n",
              "      <td>92020000</td>\n",
              "    </tr>\n",
              "    <tr>\n",
              "      <th rowspan=\"2\" valign=\"top\">2011</th>\n",
              "      <th>Action</th>\n",
              "      <td>118999999</td>\n",
              "    </tr>\n",
              "    <tr>\n",
              "      <th>Shooter</th>\n",
              "      <td>99350000</td>\n",
              "    </tr>\n",
              "    <tr>\n",
              "      <th rowspan=\"2\" valign=\"top\">2012</th>\n",
              "      <th>Action</th>\n",
              "      <td>120779999</td>\n",
              "    </tr>\n",
              "    <tr>\n",
              "      <th>Shooter</th>\n",
              "      <td>72840000</td>\n",
              "    </tr>\n",
              "    <tr>\n",
              "      <th rowspan=\"2\" valign=\"top\">2013</th>\n",
              "      <th>Action</th>\n",
              "      <td>125209999</td>\n",
              "    </tr>\n",
              "    <tr>\n",
              "      <th>Shooter</th>\n",
              "      <td>62730000</td>\n",
              "    </tr>\n",
              "    <tr>\n",
              "      <th rowspan=\"2\" valign=\"top\">2014</th>\n",
              "      <th>Action</th>\n",
              "      <td>99009999</td>\n",
              "    </tr>\n",
              "    <tr>\n",
              "      <th>Shooter</th>\n",
              "      <td>65989999</td>\n",
              "    </tr>\n",
              "    <tr>\n",
              "      <th rowspan=\"2\" valign=\"top\">2015</th>\n",
              "      <th>Action</th>\n",
              "      <td>68250000</td>\n",
              "    </tr>\n",
              "    <tr>\n",
              "      <th>Shooter</th>\n",
              "      <td>66119999</td>\n",
              "    </tr>\n",
              "    <tr>\n",
              "      <th rowspan=\"2\" valign=\"top\">2016</th>\n",
              "      <th>Action</th>\n",
              "      <td>19840000</td>\n",
              "    </tr>\n",
              "    <tr>\n",
              "      <th>Shooter</th>\n",
              "      <td>18169999</td>\n",
              "    </tr>\n",
              "    <tr>\n",
              "      <th rowspan=\"2\" valign=\"top\">2017</th>\n",
              "      <th>Role-Playing</th>\n",
              "      <td>40000</td>\n",
              "    </tr>\n",
              "    <tr>\n",
              "      <th>Action</th>\n",
              "      <td>10000</td>\n",
              "    </tr>\n",
              "    <tr>\n",
              "      <th>2020</th>\n",
              "      <th>Simulation</th>\n",
              "      <td>290000</td>\n",
              "    </tr>\n",
              "  </tbody>\n",
              "</table>\n",
              "</div>"
            ],
            "text/plain": [
              "                   Sales_sum\n",
              "Year Genre                  \n",
              "2010 Action        117500000\n",
              "     Sports         92020000\n",
              "2011 Action        118999999\n",
              "     Shooter        99350000\n",
              "2012 Action        120779999\n",
              "     Shooter        72840000\n",
              "2013 Action        125209999\n",
              "     Shooter        62730000\n",
              "2014 Action         99009999\n",
              "     Shooter        65989999\n",
              "2015 Action         68250000\n",
              "     Shooter        66119999\n",
              "2016 Action         19840000\n",
              "     Shooter        18169999\n",
              "2017 Role-Playing      40000\n",
              "     Action            10000\n",
              "2020 Simulation       290000"
            ]
          },
          "metadata": {
            "tags": []
          },
          "execution_count": 353
        }
      ]
    },
    {
      "cell_type": "code",
      "metadata": {
        "colab": {
          "base_uri": "https://localhost:8080/",
          "height": 326
        },
        "id": "m-D6gz-ZsOyl",
        "outputId": "2cd7b044-ef53-4edc-9405-62c2fdfe0335"
      },
      "source": [
        "#2010년대 게임 발매량\n",
        "results = dict(list(arr.items())[30: 40])  \n",
        "category_names = sorted(df_reset['Genre'].unique())\n",
        "survey(results, category_names)\n",
        "plt.show()"
      ],
      "execution_count": 354,
      "outputs": [
        {
          "output_type": "display_data",
          "data": {
            "image/png": "[encoded data removed]",
            "text/plain": [
              "<Figure size 662.4x360 with 1 Axes>"
            ]
          },
          "metadata": {
            "tags": [],
            "needs_background": "light"
          }
        }
      ]
    },
    {
      "cell_type": "markdown",
      "metadata": {
        "id": "cQSGViGIoMyF"
      },
      "source": [
        "- 발매된 게임 개수가 적어 분석할 수 없는 데이터인 2017년, 2020년을 제외하면\n",
        "- 2010년대는 **Action - Shooter**게임이 확실한 강세를 보인다.\n",
        "- 지표에서도 확인할 수 있듯이 인기에 힘입어 2010년대는 Action 게임이 가장 많이 발매되었다. \n",
        "- 2010년, 11년까지 Sports, Misc 장르의 게임도 다수 발매 되었으나 매출이 안나와서인지 발매 트렌드도 변했다.\n",
        "- GTA 5(Action), 콜 오브 듀티 시리즈(Shooter)가 매출권 상위에 랭크되었다. "
      ]
    },
    {
      "cell_type": "markdown",
      "metadata": {
        "id": "EEPE0tNyoPaV"
      },
      "source": [
        "#### 연도별 게임 트렌드 결론\n",
        "- 80년대는 발매된 게임 개수 자체가 상대적으로 적기 때문에 장르보다는 게임 자체의 매출에 더 영향을 많이 받는다. 따라서 연도별로 매출 1위인 게임 장르가 다양하다. \n",
        "- 90년대 초는 Platform, Fighting 장르가 매출 순으로 강세를 보였다. 게임 자체의 발매량이 많아지면서 다양한 장르의 게임이 골고루 발매되었다. 그 중 1위는 Sports로, 90년대 후반에 매출 또한 증가했다.\n",
        "- 2000년대 이후 부터는 인기있는 장르가 명확하다. 근래일수록 발매도 인기 있는 게임 장르 위주로 발매되었다.  00년대는 Sports-Action 장르가 확실한 대세이며, 10년대는 Action - Shooter 게임이 강세를 보인다.\n",
        "- 따라서 게임 트랜드, 즉 매출이 높은 게임 장르는 10년 단위로 확인이 가능하다. \n",
        "- 8090년대는 다양한 게임 장르 발매 위주라면, 0010년대는 인기 있는 게임 장르 위주의 발매가 돋보인다."
      ]
    },
    {
      "cell_type": "markdown",
      "metadata": {
        "id": "o3aRel640Pst"
      },
      "source": [
        "### 발매된 게임 장르별 개수와 매출간의 관계\n",
        "- 그래프를 그려 알아봤지만, 상관계수를 활용하여 알아보자.\n",
        "- 가설 : 연도별로 더 많이 발매된 장르가 매출도 높을 것이다. "
      ]
    },
    {
      "cell_type": "code",
      "metadata": {
        "colab": {
          "base_uri": "https://localhost:8080/",
          "height": 419
        },
        "id": "5bLcI1BO0Ova",
        "outputId": "0a10b012-a877-4094-f965-b48541612f07"
      },
      "source": [
        "#판매량 추가\n",
        "df_reset_sum1 = df_reset[['Year', 'Genre', 'Sales_sum']]\n",
        "df_reset_sum_count = df_reset_sum1.groupby(['Year', 'Genre']).sum().reset_index()\n",
        "df_reset_sum_count['Count'] = df_reset[['Year', 'Genre', 'Name']].groupby(['Year','Genre']).count().reset_index()['Name']\n",
        "df_reset_sum_count"
      ],
      "execution_count": 370,
      "outputs": [
        {
          "output_type": "execute_result",
          "data": {
            "text/html": [
              "<div>\n",
              "<style scoped>\n",
              "    .dataframe tbody tr th:only-of-type {\n",
              "        vertical-align: middle;\n",
              "    }\n",
              "\n",
              "    .dataframe tbody tr th {\n",
              "        vertical-align: top;\n",
              "    }\n",
              "\n",
              "    .dataframe thead th {\n",
              "        text-align: right;\n",
              "    }\n",
              "</style>\n",
              "<table border=\"1\" class=\"dataframe\">\n",
              "  <thead>\n",
              "    <tr style=\"text-align: right;\">\n",
              "      <th></th>\n",
              "      <th>Year</th>\n",
              "      <th>Genre</th>\n",
              "      <th>Sales_sum</th>\n",
              "      <th>Count</th>\n",
              "    </tr>\n",
              "  </thead>\n",
              "  <tbody>\n",
              "    <tr>\n",
              "      <th>0</th>\n",
              "      <td>1980</td>\n",
              "      <td>Action</td>\n",
              "      <td>340000</td>\n",
              "      <td>1</td>\n",
              "    </tr>\n",
              "    <tr>\n",
              "      <th>1</th>\n",
              "      <td>1980</td>\n",
              "      <td>Fighting</td>\n",
              "      <td>770000</td>\n",
              "      <td>1</td>\n",
              "    </tr>\n",
              "    <tr>\n",
              "      <th>2</th>\n",
              "      <td>1980</td>\n",
              "      <td>Misc</td>\n",
              "      <td>2700000</td>\n",
              "      <td>4</td>\n",
              "    </tr>\n",
              "    <tr>\n",
              "      <th>3</th>\n",
              "      <td>1980</td>\n",
              "      <td>Shooter</td>\n",
              "      <td>7070000</td>\n",
              "      <td>2</td>\n",
              "    </tr>\n",
              "    <tr>\n",
              "      <th>4</th>\n",
              "      <td>1981</td>\n",
              "      <td>Action</td>\n",
              "      <td>14790000</td>\n",
              "      <td>25</td>\n",
              "    </tr>\n",
              "    <tr>\n",
              "      <th>...</th>\n",
              "      <td>...</td>\n",
              "      <td>...</td>\n",
              "      <td>...</td>\n",
              "      <td>...</td>\n",
              "    </tr>\n",
              "    <tr>\n",
              "      <th>383</th>\n",
              "      <td>2016</td>\n",
              "      <td>Sports</td>\n",
              "      <td>14630000</td>\n",
              "      <td>38</td>\n",
              "    </tr>\n",
              "    <tr>\n",
              "      <th>384</th>\n",
              "      <td>2016</td>\n",
              "      <td>Strategy</td>\n",
              "      <td>520000</td>\n",
              "      <td>10</td>\n",
              "    </tr>\n",
              "    <tr>\n",
              "      <th>385</th>\n",
              "      <td>2017</td>\n",
              "      <td>Action</td>\n",
              "      <td>10000</td>\n",
              "      <td>1</td>\n",
              "    </tr>\n",
              "    <tr>\n",
              "      <th>386</th>\n",
              "      <td>2017</td>\n",
              "      <td>Role-Playing</td>\n",
              "      <td>40000</td>\n",
              "      <td>2</td>\n",
              "    </tr>\n",
              "    <tr>\n",
              "      <th>387</th>\n",
              "      <td>2020</td>\n",
              "      <td>Simulation</td>\n",
              "      <td>290000</td>\n",
              "      <td>1</td>\n",
              "    </tr>\n",
              "  </tbody>\n",
              "</table>\n",
              "<p>388 rows × 4 columns</p>\n",
              "</div>"
            ],
            "text/plain": [
              "     Year         Genre  Sales_sum  Count\n",
              "0    1980        Action     340000      1\n",
              "1    1980      Fighting     770000      1\n",
              "2    1980          Misc    2700000      4\n",
              "3    1980       Shooter    7070000      2\n",
              "4    1981        Action   14790000     25\n",
              "..    ...           ...        ...    ...\n",
              "383  2016        Sports   14630000     38\n",
              "384  2016      Strategy     520000     10\n",
              "385  2017        Action      10000      1\n",
              "386  2017  Role-Playing      40000      2\n",
              "387  2020    Simulation     290000      1\n",
              "\n",
              "[388 rows x 4 columns]"
            ]
          },
          "metadata": {
            "tags": []
          },
          "execution_count": 370
        }
      ]
    },
    {
      "cell_type": "code",
      "metadata": {
        "colab": {
          "base_uri": "https://localhost:8080/",
          "height": 527
        },
        "id": "f7PTjqvH2nb3",
        "outputId": "8608568d-5e12-4c51-9c8a-f2da605996fb"
      },
      "source": [
        "g = sns.FacetGrid(data = df_reset_sum_count, col= 'Genre', height=2)\n",
        "\n",
        "g.map_dataframe(\n",
        "    sns.scatterplot,\n",
        "    x = 'Sales_sum',\n",
        "    y = 'Count',\n",
        "    hue = 'Year', # color\n",
        "    #alpha = 0.5, # tranparency\n",
        "    data = df_reset_sum_count,\n",
        "    palette= 'rocket_r'\n",
        ")\n",
        "g.add_legend();"
      ],
      "execution_count": 376,
      "outputs": [
        {
          "output_type": "display_data",
          "data": {
            "image/png": "[encoded data removed]",
            "text/plain": [
              "<Figure size 1789.5x144 with 12 Axes>"
            ]
          },
          "metadata": {
            "tags": [],
            "needs_background": "light"
          }
        }
      ]
    },
    {
      "cell_type": "code",
      "metadata": {
        "colab": {
          "base_uri": "https://localhost:8080/",
          "height": 111
        },
        "id": "6uqSidMq3N9i",
        "outputId": "55454689-830d-46c5-df01-8ee4a5e4a1c6"
      },
      "source": [
        "#매출-발매량 상관계수\n",
        "df_reset_sum_count.corr()"
      ],
      "execution_count": 389,
      "outputs": [
        {
          "output_type": "execute_result",
          "data": {
            "text/html": [
              "<div>\n",
              "<style scoped>\n",
              "    .dataframe tbody tr th:only-of-type {\n",
              "        vertical-align: middle;\n",
              "    }\n",
              "\n",
              "    .dataframe tbody tr th {\n",
              "        vertical-align: top;\n",
              "    }\n",
              "\n",
              "    .dataframe thead th {\n",
              "        text-align: right;\n",
              "    }\n",
              "</style>\n",
              "<table border=\"1\" class=\"dataframe\">\n",
              "  <thead>\n",
              "    <tr style=\"text-align: right;\">\n",
              "      <th></th>\n",
              "      <th>Sales_sum</th>\n",
              "      <th>Count</th>\n",
              "    </tr>\n",
              "  </thead>\n",
              "  <tbody>\n",
              "    <tr>\n",
              "      <th>Sales_sum</th>\n",
              "      <td>1.000000</td>\n",
              "      <td>0.860166</td>\n",
              "    </tr>\n",
              "    <tr>\n",
              "      <th>Count</th>\n",
              "      <td>0.860166</td>\n",
              "      <td>1.000000</td>\n",
              "    </tr>\n",
              "  </tbody>\n",
              "</table>\n",
              "</div>"
            ],
            "text/plain": [
              "           Sales_sum     Count\n",
              "Sales_sum   1.000000  0.860166\n",
              "Count       0.860166  1.000000"
            ]
          },
          "metadata": {
            "tags": []
          },
          "execution_count": 389
        }
      ]
    },
    {
      "cell_type": "markdown",
      "metadata": {
        "id": "uq53kzOG2_nk"
      },
      "source": [
        "- 상관계수 값이 0.86이므로 전반적으로 다소 강한 양의 상관관계를 갖고 있다고 볼 수 있다.\n",
        "- scatterplot을 보면 최근일수록, 절대적인 매출액이 클수록 상관 관계가 강해지는 것을 확인할 수 있다.\n",
        "- 특히 매출이 높은 Action, Misc, Sports 장르의 경우 그런 경향이 두드러진다."
      ]
    },
    {
      "cell_type": "code",
      "metadata": {
        "colab": {
          "base_uri": "https://localhost:8080/"
        },
        "id": "fsBCbNo95d5y",
        "outputId": "f92644c7-de97-4d3b-b451-3c82576db41b"
      },
      "source": [
        "#장르별 매출-발매량 상관계수\n",
        "for i in category_names:\n",
        "  print(i, df_reset_sum_count[df_reset_sum_count['Genre'] == i].corr()['Count'][0])"
      ],
      "execution_count": 393,
      "outputs": [
        {
          "output_type": "stream",
          "text": [
            "Action 0.9315555149363534\n",
            "Adventure 0.8215354277918471\n",
            "Fighting 0.850386583921357\n",
            "Misc 0.9549250141661138\n",
            "Platform 0.6748008211592511\n",
            "Puzzle 0.5371451265338018\n",
            "Racing 0.8768977677399601\n",
            "Role-Playing 0.8678144152033802\n",
            "Shooter 0.8316253105679938\n",
            "Simulation 0.8391536204950127\n",
            "Sports 0.9179973351382784\n",
            "Strategy 0.6779243046097714\n"
          ],
          "name": "stdout"
        }
      ]
    },
    {
      "cell_type": "markdown",
      "metadata": {
        "id": "wj9L3d9R65Q0"
      },
      "source": [
        "- 반대로 상대적으로 발매량과 판매량의 상관관계가 약한 장르는 Puzzle, Platform, Strategy 등이 있다."
      ]
    },
    {
      "cell_type": "code",
      "metadata": {
        "colab": {
          "base_uri": "https://localhost:8080/",
          "height": 459
        },
        "id": "SL0yDfrZ7SpC",
        "outputId": "ecec076a-8d11-490a-9b31-562223da48b3"
      },
      "source": [
        "fig_dims = (20, 7)\n",
        "fig, ax = plt.subplots(1,2,figsize=fig_dims)\n",
        "sns.barplot(x='Genre', y='Count', ax=ax[0], data=df_reset_sum_count);\n",
        "sns.barplot(x='Genre', y='Sales_sum', ax=ax[1], data=df_reset_sum_count);"
      ],
      "execution_count": 394,
      "outputs": [
        {
          "output_type": "display_data",
          "data": {
            "image/png": "[encoded data removed]",
            "text/plain": [
              "<Figure size 1440x504 with 2 Axes>"
            ]
          },
          "metadata": {
            "tags": []
          }
        }
      ]
    },
    {
      "cell_type": "markdown",
      "metadata": {
        "id": "5VYkgkGB7Y1g"
      },
      "source": [
        "- 발매량에 비해 매출이 안나오는 장르는 Adventure, Strategy이다.\n",
        "- 발매량에 비해 매출이 잘 나오는 장르는 Platform, Shooter이다. "
      ]
    },
    {
      "cell_type": "markdown",
      "metadata": {
        "id": "5Y_hjTPJ7xoL"
      },
      "source": [
        "### 게임 속성 Platform, Genre, Publisher 3개 중 가장 Sales에 영향을 끼치는 변수는? \n",
        "- categorical data의 경우, one-hot encoding을 통해 train/test 과정을 거쳐 알아볼 수 있으나\n",
        "- 아직 배우지 않았으므로 Spearman correlation coefficient를 사용한다.\n",
        "- 귀무가설 : 해당 변수와 Sales 변수는 연관이 없다."
      ]
    },
    {
      "cell_type": "code",
      "metadata": {
        "colab": {
          "base_uri": "https://localhost:8080/"
        },
        "id": "8LHKnX8g7xaH",
        "outputId": "3430d5d8-27d0-4e2a-ae5f-c15f55a5774b"
      },
      "source": [
        "#categorical data에 사용하는 spearman 상관계수 사용\n",
        "platform = stats.spearmanr(df_reset.Sales_sum, df_reset.Platform)\n",
        "publisher = stats.spearmanr(df_reset.Sales_sum, df_reset.Publisher)\n",
        "Genre = stats.spearmanr(df_reset.Sales_sum, df_reset.Genre)\n",
        "platform, Genre, publisher"
      ],
      "execution_count": 395,
      "outputs": [
        {
          "output_type": "execute_result",
          "data": {
            "text/plain": [
              "(SpearmanrResult(correlation=0.074125175296287, pvalue=3.609994696208467e-21),\n",
              " SpearmanrResult(correlation=0.04723771979872315, pvalue=1.8207000018149926e-09),\n",
              " SpearmanrResult(correlation=0.03229797481861127, pvalue=3.9549959917748855e-05))"
            ]
          },
          "metadata": {
            "tags": []
          },
          "execution_count": 395
        }
      ]
    },
    {
      "cell_type": "markdown",
      "metadata": {
        "id": "Ovq3G66j8TIa"
      },
      "source": [
        "- Platform, Genre, publisher 모두 Sales에 영향을 끼치는 것을 알 수 있다.\n",
        "- p-value가 모두 0.05 미만이므로 귀무가설인 '두 변수 간 연관이 없다'를 기각하며, 95%의 신뢰구간에서 두 변수 간 영향이 있다는 것을 채택할 수 있다. "
      ]
    },
    {
      "cell_type": "code",
      "metadata": {
        "colab": {
          "base_uri": "https://localhost:8080/",
          "height": 459
        },
        "id": "k-R2srQU8u3F",
        "outputId": "0093399c-a413-4253-ad04-64fd57199b09"
      },
      "source": [
        "#플랫폼별 매출 분포\n",
        "plt.figure(figsize=(10,7))\n",
        "plt.bar(df_reset['Platform'], df_reset['Sales_sum'])"
      ],
      "execution_count": 416,
      "outputs": [
        {
          "output_type": "execute_result",
          "data": {
            "text/plain": [
              "<BarContainer object of 16188 artists>"
            ]
          },
          "metadata": {
            "tags": []
          },
          "execution_count": 416
        },
        {
          "output_type": "display_data",
          "data": {
            "image/png": "[encoded data removed]",
            "text/plain": [
              "<Figure size 720x504 with 1 Axes>"
            ]
          },
          "metadata": {
            "tags": []
          }
        }
      ]
    },
    {
      "cell_type": "code",
      "metadata": {
        "colab": {
          "base_uri": "https://localhost:8080/",
          "height": 459
        },
        "id": "x9Jg5yEyAN-b",
        "outputId": "f7a0c12e-830f-406f-a005-97523bbb548c"
      },
      "source": [
        "#장르별 매출 분포\n",
        "plt.figure(figsize=(10,7))\n",
        "plt.bar(df_reset['Genre'], df_reset['Sales_sum'])"
      ],
      "execution_count": 426,
      "outputs": [
        {
          "output_type": "execute_result",
          "data": {
            "text/plain": [
              "<BarContainer object of 16188 artists>"
            ]
          },
          "metadata": {
            "tags": []
          },
          "execution_count": 426
        },
        {
          "output_type": "display_data",
          "data": {
            "image/png": "[encoded data removed]",
            "text/plain": [
              "<Figure size 720x504 with 1 Axes>"
            ]
          },
          "metadata": {
            "tags": []
          }
        }
      ]
    },
    {
      "cell_type": "code",
      "metadata": {
        "colab": {
          "base_uri": "https://localhost:8080/",
          "height": 464
        },
        "id": "DGwzUUw18eEh",
        "outputId": "36cf5337-08bc-4364-9033-b630a0ccefb9"
      },
      "source": [
        "#배급사/플랫폼/장르에 따른 매출액 히스토그램 그리기\n",
        "plt.figure(figsize=(10,7))\n",
        "plt.subplot(1,3,1)\n",
        "plt.title('Publisher - sales')\n",
        "plt.bar(df_reset['Publisher'], df_reset['Sales_sum'])\n",
        "plt.subplot(1,3,2)\n",
        "plt.title('Platform - sales')\n",
        "plt.bar(df_reset['Platform'], df_reset['Sales_sum'])\n",
        "plt.subplot(1,3,3)\n",
        "plt.title('Genre - sales')\n",
        "plt.bar(df_reset['Genre'], df_reset['Sales_sum'])"
      ],
      "execution_count": 420,
      "outputs": [
        {
          "output_type": "execute_result",
          "data": {
            "text/plain": [
              "<BarContainer object of 16188 artists>"
            ]
          },
          "metadata": {
            "tags": []
          },
          "execution_count": 420
        },
        {
          "output_type": "display_data",
          "data": {
            "image/png": "[encoded data removed]",
            "text/plain": [
              "<Figure size 720x504 with 3 Axes>"
            ]
          },
          "metadata": {
            "tags": []
          }
        }
      ]
    },
    {
      "cell_type": "markdown",
      "metadata": {
        "id": "ExLCtf9Y_kIK"
      },
      "source": [
        "- 대형 배급사, 혹은 대형 플랫폼, 특정 장르가 높은 sales를 보이고 있다.\n",
        "- 그 중에 특히 Publisher의 경우 다수 배급사의 게임들의 총 매출이 적고 소수의 배급사가 많은 매출을 올리고 있기 때문에 그래프도 제대로 그려지지 않는다..\n",
        "- Nintendo, EA 등의 대형 배급사가 매출을 이끌고 있으며, Publisher가 Sales에 큰 영향을 끼친다는 것을 알 수 있다.\n",
        "- 종합하자면 가장 매출이 높은 게임은 Wii-sports로 [배급] Nintendo, [플랫폼] Wii, [장르] Sports 게임이다. \n",
        "- 해당 게임을 제외하면 나머지는 골고루 분포되어있다."
      ]
    },
    {
      "cell_type": "code",
      "metadata": {
        "colab": {
          "base_uri": "https://localhost:8080/",
          "height": 390
        },
        "id": "M8gLXl2H_GXm",
        "outputId": "2cfe19a8-3793-4f18-f2cc-58e81f4768f8"
      },
      "source": [
        "df_reset[['Publisher', 'Sales_sum']].groupby('Publisher').sum().sort_values(by='Sales_sum', ascending=False)[:10]"
      ],
      "execution_count": 423,
      "outputs": [
        {
          "output_type": "execute_result",
          "data": {
            "text/html": [
              "<div>\n",
              "<style scoped>\n",
              "    .dataframe tbody tr th:only-of-type {\n",
              "        vertical-align: middle;\n",
              "    }\n",
              "\n",
              "    .dataframe tbody tr th {\n",
              "        vertical-align: top;\n",
              "    }\n",
              "\n",
              "    .dataframe thead th {\n",
              "        text-align: right;\n",
              "    }\n",
              "</style>\n",
              "<table border=\"1\" class=\"dataframe\">\n",
              "  <thead>\n",
              "    <tr style=\"text-align: right;\">\n",
              "      <th></th>\n",
              "      <th>Sales_sum</th>\n",
              "    </tr>\n",
              "    <tr>\n",
              "      <th>Publisher</th>\n",
              "      <th></th>\n",
              "    </tr>\n",
              "  </thead>\n",
              "  <tbody>\n",
              "    <tr>\n",
              "      <th>Nintendo</th>\n",
              "      <td>1759379992</td>\n",
              "    </tr>\n",
              "    <tr>\n",
              "      <th>Electronic Arts</th>\n",
              "      <td>1084229992</td>\n",
              "    </tr>\n",
              "    <tr>\n",
              "      <th>Activision</th>\n",
              "      <td>719179998</td>\n",
              "    </tr>\n",
              "    <tr>\n",
              "      <th>Sony Computer Entertainment</th>\n",
              "      <td>599579994</td>\n",
              "    </tr>\n",
              "    <tr>\n",
              "      <th>Ubisoft</th>\n",
              "      <td>472119998</td>\n",
              "    </tr>\n",
              "    <tr>\n",
              "      <th>Take-Two Interactive</th>\n",
              "      <td>398249997</td>\n",
              "    </tr>\n",
              "    <tr>\n",
              "      <th>THQ</th>\n",
              "      <td>338849999</td>\n",
              "    </tr>\n",
              "    <tr>\n",
              "      <th>Konami Digital Entertainment</th>\n",
              "      <td>277779998</td>\n",
              "    </tr>\n",
              "    <tr>\n",
              "      <th>Sega</th>\n",
              "      <td>269560000</td>\n",
              "    </tr>\n",
              "    <tr>\n",
              "      <th>Namco Bandai Games</th>\n",
              "      <td>252559999</td>\n",
              "    </tr>\n",
              "  </tbody>\n",
              "</table>\n",
              "</div>"
            ],
            "text/plain": [
              "                               Sales_sum\n",
              "Publisher                               \n",
              "Nintendo                      1759379992\n",
              "Electronic Arts               1084229992\n",
              "Activision                     719179998\n",
              "Sony Computer Entertainment    599579994\n",
              "Ubisoft                        472119998\n",
              "Take-Two Interactive           398249997\n",
              "THQ                            338849999\n",
              "Konami Digital Entertainment   277779998\n",
              "Sega                           269560000\n",
              "Namco Bandai Games             252559999"
            ]
          },
          "metadata": {
            "tags": []
          },
          "execution_count": 423
        }
      ]
    },
    {
      "cell_type": "code",
      "metadata": {
        "colab": {
          "base_uri": "https://localhost:8080/",
          "height": 359
        },
        "id": "_hN8Pg99Aty0",
        "outputId": "3c96dca3-57e6-46f0-a2c5-f9455798d7bc"
      },
      "source": [
        "df_reset.sort_values(by='Sales_sum', ascending=False)[:10]"
      ],
      "execution_count": 425,
      "outputs": [
        {
          "output_type": "execute_result",
          "data": {
            "text/html": [
              "<div>\n",
              "<style scoped>\n",
              "    .dataframe tbody tr th:only-of-type {\n",
              "        vertical-align: middle;\n",
              "    }\n",
              "\n",
              "    .dataframe tbody tr th {\n",
              "        vertical-align: top;\n",
              "    }\n",
              "\n",
              "    .dataframe thead th {\n",
              "        text-align: right;\n",
              "    }\n",
              "</style>\n",
              "<table border=\"1\" class=\"dataframe\">\n",
              "  <thead>\n",
              "    <tr style=\"text-align: right;\">\n",
              "      <th></th>\n",
              "      <th>Name</th>\n",
              "      <th>Platform</th>\n",
              "      <th>Year</th>\n",
              "      <th>Genre</th>\n",
              "      <th>Publisher</th>\n",
              "      <th>NA_Sales</th>\n",
              "      <th>EU_Sales</th>\n",
              "      <th>JP_Sales</th>\n",
              "      <th>Other_Sales</th>\n",
              "      <th>Sales_sum</th>\n",
              "    </tr>\n",
              "  </thead>\n",
              "  <tbody>\n",
              "    <tr>\n",
              "      <th>2843</th>\n",
              "      <td>Wii Sports</td>\n",
              "      <td>Wii</td>\n",
              "      <td>2006</td>\n",
              "      <td>Sports</td>\n",
              "      <td>Nintendo</td>\n",
              "      <td>41490000</td>\n",
              "      <td>29020000</td>\n",
              "      <td>3770000</td>\n",
              "      <td>8460000</td>\n",
              "      <td>82740000</td>\n",
              "    </tr>\n",
              "    <tr>\n",
              "      <th>4097</th>\n",
              "      <td>Super Mario Bros.</td>\n",
              "      <td>NES</td>\n",
              "      <td>1985</td>\n",
              "      <td>Platform</td>\n",
              "      <td>Nintendo</td>\n",
              "      <td>29080000</td>\n",
              "      <td>3580000</td>\n",
              "      <td>6810000</td>\n",
              "      <td>770000</td>\n",
              "      <td>40240000</td>\n",
              "    </tr>\n",
              "    <tr>\n",
              "      <th>12275</th>\n",
              "      <td>Mario Kart Wii</td>\n",
              "      <td>Wii</td>\n",
              "      <td>2008</td>\n",
              "      <td>Racing</td>\n",
              "      <td>Nintendo</td>\n",
              "      <td>15850000</td>\n",
              "      <td>12880000</td>\n",
              "      <td>3790000</td>\n",
              "      <td>3310000</td>\n",
              "      <td>35830000</td>\n",
              "    </tr>\n",
              "    <tr>\n",
              "      <th>3275</th>\n",
              "      <td>Wii Sports Resort</td>\n",
              "      <td>Wii</td>\n",
              "      <td>2009</td>\n",
              "      <td>Sports</td>\n",
              "      <td>Nintendo</td>\n",
              "      <td>15750000</td>\n",
              "      <td>11010000</td>\n",
              "      <td>3280000</td>\n",
              "      <td>2960000</td>\n",
              "      <td>33000000</td>\n",
              "    </tr>\n",
              "    <tr>\n",
              "      <th>7649</th>\n",
              "      <td>Pokemon Red/Pokemon Blue</td>\n",
              "      <td>GB</td>\n",
              "      <td>1996</td>\n",
              "      <td>Role-Playing</td>\n",
              "      <td>Nintendo</td>\n",
              "      <td>11270000</td>\n",
              "      <td>8890000</td>\n",
              "      <td>10220000</td>\n",
              "      <td>1000000</td>\n",
              "      <td>31380000</td>\n",
              "    </tr>\n",
              "    <tr>\n",
              "      <th>1184</th>\n",
              "      <td>Tetris</td>\n",
              "      <td>GB</td>\n",
              "      <td>1989</td>\n",
              "      <td>Puzzle</td>\n",
              "      <td>Nintendo</td>\n",
              "      <td>23200000</td>\n",
              "      <td>2260000</td>\n",
              "      <td>4220000</td>\n",
              "      <td>580000</td>\n",
              "      <td>30260000</td>\n",
              "    </tr>\n",
              "    <tr>\n",
              "      <th>6776</th>\n",
              "      <td>New Super Mario Bros.</td>\n",
              "      <td>DS</td>\n",
              "      <td>2006</td>\n",
              "      <td>Platform</td>\n",
              "      <td>Nintendo</td>\n",
              "      <td>11380000</td>\n",
              "      <td>9230000</td>\n",
              "      <td>6500000</td>\n",
              "      <td>2900000</td>\n",
              "      <td>30010000</td>\n",
              "    </tr>\n",
              "    <tr>\n",
              "      <th>2947</th>\n",
              "      <td>Wii Play</td>\n",
              "      <td>Wii</td>\n",
              "      <td>2006</td>\n",
              "      <td>Misc</td>\n",
              "      <td>Nintendo</td>\n",
              "      <td>14030000</td>\n",
              "      <td>9200000</td>\n",
              "      <td>2930000</td>\n",
              "      <td>2850000</td>\n",
              "      <td>29010000</td>\n",
              "    </tr>\n",
              "    <tr>\n",
              "      <th>16123</th>\n",
              "      <td>New Super Mario Bros. Wii</td>\n",
              "      <td>Wii</td>\n",
              "      <td>2009</td>\n",
              "      <td>Platform</td>\n",
              "      <td>Nintendo</td>\n",
              "      <td>14590000</td>\n",
              "      <td>7060000</td>\n",
              "      <td>4700000</td>\n",
              "      <td>2260000</td>\n",
              "      <td>28610000</td>\n",
              "    </tr>\n",
              "    <tr>\n",
              "      <th>10242</th>\n",
              "      <td>Duck Hunt</td>\n",
              "      <td>NES</td>\n",
              "      <td>1984</td>\n",
              "      <td>Shooter</td>\n",
              "      <td>Nintendo</td>\n",
              "      <td>26930000</td>\n",
              "      <td>630000</td>\n",
              "      <td>280000</td>\n",
              "      <td>470000</td>\n",
              "      <td>28310000</td>\n",
              "    </tr>\n",
              "  </tbody>\n",
              "</table>\n",
              "</div>"
            ],
            "text/plain": [
              "                            Name Platform  ... Other_Sales Sales_sum\n",
              "2843                  Wii Sports      Wii  ...     8460000  82740000\n",
              "4097           Super Mario Bros.      NES  ...      770000  40240000\n",
              "12275             Mario Kart Wii      Wii  ...     3310000  35830000\n",
              "3275           Wii Sports Resort      Wii  ...     2960000  33000000\n",
              "7649    Pokemon Red/Pokemon Blue       GB  ...     1000000  31380000\n",
              "1184                      Tetris       GB  ...      580000  30260000\n",
              "6776       New Super Mario Bros.       DS  ...     2900000  30010000\n",
              "2947                    Wii Play      Wii  ...     2850000  29010000\n",
              "16123  New Super Mario Bros. Wii      Wii  ...     2260000  28610000\n",
              "10242                  Duck Hunt      NES  ...      470000  28310000\n",
              "\n",
              "[10 rows x 10 columns]"
            ]
          },
          "metadata": {
            "tags": []
          },
          "execution_count": 425
        }
      ]
    },
    {
      "cell_type": "code",
      "metadata": {
        "id": "I-eOtSovBb49"
      },
      "source": [
        "wtf = df_reset.drop(index=2843)"
      ],
      "execution_count": 430,
      "outputs": []
    },
    {
      "cell_type": "code",
      "metadata": {
        "colab": {
          "base_uri": "https://localhost:8080/",
          "height": 359
        },
        "id": "x9JdzrZqBujU",
        "outputId": "25f93078-037d-4773-f77f-6908f99e30c8"
      },
      "source": [
        "wtf.sort_values(by='Sales_sum', ascending=False)[:10]"
      ],
      "execution_count": 431,
      "outputs": [
        {
          "output_type": "execute_result",
          "data": {
            "text/html": [
              "<div>\n",
              "<style scoped>\n",
              "    .dataframe tbody tr th:only-of-type {\n",
              "        vertical-align: middle;\n",
              "    }\n",
              "\n",
              "    .dataframe tbody tr th {\n",
              "        vertical-align: top;\n",
              "    }\n",
              "\n",
              "    .dataframe thead th {\n",
              "        text-align: right;\n",
              "    }\n",
              "</style>\n",
              "<table border=\"1\" class=\"dataframe\">\n",
              "  <thead>\n",
              "    <tr style=\"text-align: right;\">\n",
              "      <th></th>\n",
              "      <th>Name</th>\n",
              "      <th>Platform</th>\n",
              "      <th>Year</th>\n",
              "      <th>Genre</th>\n",
              "      <th>Publisher</th>\n",
              "      <th>NA_Sales</th>\n",
              "      <th>EU_Sales</th>\n",
              "      <th>JP_Sales</th>\n",
              "      <th>Other_Sales</th>\n",
              "      <th>Sales_sum</th>\n",
              "    </tr>\n",
              "  </thead>\n",
              "  <tbody>\n",
              "    <tr>\n",
              "      <th>4097</th>\n",
              "      <td>Super Mario Bros.</td>\n",
              "      <td>NES</td>\n",
              "      <td>1985</td>\n",
              "      <td>Platform</td>\n",
              "      <td>Nintendo</td>\n",
              "      <td>29080000</td>\n",
              "      <td>3580000</td>\n",
              "      <td>6810000</td>\n",
              "      <td>770000</td>\n",
              "      <td>40240000</td>\n",
              "    </tr>\n",
              "    <tr>\n",
              "      <th>12275</th>\n",
              "      <td>Mario Kart Wii</td>\n",
              "      <td>Wii</td>\n",
              "      <td>2008</td>\n",
              "      <td>Racing</td>\n",
              "      <td>Nintendo</td>\n",
              "      <td>15850000</td>\n",
              "      <td>12880000</td>\n",
              "      <td>3790000</td>\n",
              "      <td>3310000</td>\n",
              "      <td>35830000</td>\n",
              "    </tr>\n",
              "    <tr>\n",
              "      <th>3275</th>\n",
              "      <td>Wii Sports Resort</td>\n",
              "      <td>Wii</td>\n",
              "      <td>2009</td>\n",
              "      <td>Sports</td>\n",
              "      <td>Nintendo</td>\n",
              "      <td>15750000</td>\n",
              "      <td>11010000</td>\n",
              "      <td>3280000</td>\n",
              "      <td>2960000</td>\n",
              "      <td>33000000</td>\n",
              "    </tr>\n",
              "    <tr>\n",
              "      <th>7649</th>\n",
              "      <td>Pokemon Red/Pokemon Blue</td>\n",
              "      <td>GB</td>\n",
              "      <td>1996</td>\n",
              "      <td>Role-Playing</td>\n",
              "      <td>Nintendo</td>\n",
              "      <td>11270000</td>\n",
              "      <td>8890000</td>\n",
              "      <td>10220000</td>\n",
              "      <td>1000000</td>\n",
              "      <td>31380000</td>\n",
              "    </tr>\n",
              "    <tr>\n",
              "      <th>1184</th>\n",
              "      <td>Tetris</td>\n",
              "      <td>GB</td>\n",
              "      <td>1989</td>\n",
              "      <td>Puzzle</td>\n",
              "      <td>Nintendo</td>\n",
              "      <td>23200000</td>\n",
              "      <td>2260000</td>\n",
              "      <td>4220000</td>\n",
              "      <td>580000</td>\n",
              "      <td>30260000</td>\n",
              "    </tr>\n",
              "    <tr>\n",
              "      <th>6776</th>\n",
              "      <td>New Super Mario Bros.</td>\n",
              "      <td>DS</td>\n",
              "      <td>2006</td>\n",
              "      <td>Platform</td>\n",
              "      <td>Nintendo</td>\n",
              "      <td>11380000</td>\n",
              "      <td>9230000</td>\n",
              "      <td>6500000</td>\n",
              "      <td>2900000</td>\n",
              "      <td>30010000</td>\n",
              "    </tr>\n",
              "    <tr>\n",
              "      <th>2947</th>\n",
              "      <td>Wii Play</td>\n",
              "      <td>Wii</td>\n",
              "      <td>2006</td>\n",
              "      <td>Misc</td>\n",
              "      <td>Nintendo</td>\n",
              "      <td>14030000</td>\n",
              "      <td>9200000</td>\n",
              "      <td>2930000</td>\n",
              "      <td>2850000</td>\n",
              "      <td>29010000</td>\n",
              "    </tr>\n",
              "    <tr>\n",
              "      <th>16123</th>\n",
              "      <td>New Super Mario Bros. Wii</td>\n",
              "      <td>Wii</td>\n",
              "      <td>2009</td>\n",
              "      <td>Platform</td>\n",
              "      <td>Nintendo</td>\n",
              "      <td>14590000</td>\n",
              "      <td>7060000</td>\n",
              "      <td>4700000</td>\n",
              "      <td>2260000</td>\n",
              "      <td>28610000</td>\n",
              "    </tr>\n",
              "    <tr>\n",
              "      <th>10242</th>\n",
              "      <td>Duck Hunt</td>\n",
              "      <td>NES</td>\n",
              "      <td>1984</td>\n",
              "      <td>Shooter</td>\n",
              "      <td>Nintendo</td>\n",
              "      <td>26930000</td>\n",
              "      <td>630000</td>\n",
              "      <td>280000</td>\n",
              "      <td>470000</td>\n",
              "      <td>28310000</td>\n",
              "    </tr>\n",
              "    <tr>\n",
              "      <th>10876</th>\n",
              "      <td>Nintendogs</td>\n",
              "      <td>DS</td>\n",
              "      <td>2005</td>\n",
              "      <td>Simulation</td>\n",
              "      <td>Nintendo</td>\n",
              "      <td>9070000</td>\n",
              "      <td>11000000</td>\n",
              "      <td>1930000</td>\n",
              "      <td>2750000</td>\n",
              "      <td>24750000</td>\n",
              "    </tr>\n",
              "  </tbody>\n",
              "</table>\n",
              "</div>"
            ],
            "text/plain": [
              "                            Name Platform  ... Other_Sales Sales_sum\n",
              "4097           Super Mario Bros.      NES  ...      770000  40240000\n",
              "12275             Mario Kart Wii      Wii  ...     3310000  35830000\n",
              "3275           Wii Sports Resort      Wii  ...     2960000  33000000\n",
              "7649    Pokemon Red/Pokemon Blue       GB  ...     1000000  31380000\n",
              "1184                      Tetris       GB  ...      580000  30260000\n",
              "6776       New Super Mario Bros.       DS  ...     2900000  30010000\n",
              "2947                    Wii Play      Wii  ...     2850000  29010000\n",
              "16123  New Super Mario Bros. Wii      Wii  ...     2260000  28610000\n",
              "10242                  Duck Hunt      NES  ...      470000  28310000\n",
              "10876                 Nintendogs       DS  ...     2750000  24750000\n",
              "\n",
              "[10 rows x 10 columns]"
            ]
          },
          "metadata": {
            "tags": []
          },
          "execution_count": 431
        }
      ]
    },
    {
      "cell_type": "code",
      "metadata": {
        "colab": {
          "base_uri": "https://localhost:8080/",
          "height": 459
        },
        "id": "KSwNhCm3BZrc",
        "outputId": "bfb25986-083a-4bd1-88c5-dfd9a794d998"
      },
      "source": [
        "#닌텐도의 위 스포츠를 제외한 장르 - 매출 그래프\n",
        "plt.figure(figsize=(10,7))\n",
        "plt.bar(wtf['Genre'], wtf['Sales_sum'])"
      ],
      "execution_count": 432,
      "outputs": [
        {
          "output_type": "execute_result",
          "data": {
            "text/plain": [
              "<BarContainer object of 16187 artists>"
            ]
          },
          "metadata": {
            "tags": []
          },
          "execution_count": 432
        },
        {
          "output_type": "display_data",
          "data": {
            "image/png": "[encoded data removed]",
            "text/plain": [
              "<Figure size 720x504 with 1 Axes>"
            ]
          },
          "metadata": {
            "tags": []
          }
        }
      ]
    },
    {
      "cell_type": "code",
      "metadata": {
        "colab": {
          "base_uri": "https://localhost:8080/",
          "height": 459
        },
        "id": "pqJIfcvECNJu",
        "outputId": "231e647d-65c2-4d10-e81d-546bf77f3e1b"
      },
      "source": [
        "#닌텐도 위 스포츠를 제외한 플랫폼 - 매출액 그래프.\n",
        "#매출액 2위인 슈퍼 마리오 브로스의 NES가 가장 높다.\n",
        "plt.figure(figsize=(10,7))\n",
        "plt.bar(wtf['Platform'], wtf['Sales_sum'])"
      ],
      "execution_count": 433,
      "outputs": [
        {
          "output_type": "execute_result",
          "data": {
            "text/plain": [
              "<BarContainer object of 16187 artists>"
            ]
          },
          "metadata": {
            "tags": []
          },
          "execution_count": 433
        },
        {
          "output_type": "display_data",
          "data": {
            "image/png": "[encoded data removed]",
            "text/plain": [
              "<Figure size 720x504 with 1 Axes>"
            ]
          },
          "metadata": {
            "tags": []
          }
        }
      ]
    }
  ]
}